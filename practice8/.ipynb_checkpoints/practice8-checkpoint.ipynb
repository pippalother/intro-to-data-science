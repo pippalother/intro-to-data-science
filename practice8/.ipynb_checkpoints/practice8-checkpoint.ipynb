{
 "cells": [
  {
   "cell_type": "markdown",
   "metadata": {},
   "source": [
    "# Practice 8\n",
    "In this exercise, you will practice inferential statistics with confidence intervals, bootstrapping, and hypothesis testing. Problems may involve a combination of math and code. \n",
    "\n",
    "Recall that you can use LaTeX to nicely format your math inside Markdown cells by enclosing equations in single dollar signs (e.g., $x^2+4=8$) for inline math or double dollar signs for centered equations like $$P(X > 5) = \\frac{1}{6}.$$ For a reference if you are new to LaTeX, see the [overleaf documentation for mathematical expressions](https://www.overleaf.com/learn/latex/mathematical_expressions). \n",
    "\n",
    "Show your work and/or briefly explain your answers. In general you will not receive full credit for numeric answers with no accompanying work or justification (math, code, explanation). For numeric answers, we will accept answers that are very slightly off due to rounding, z score of 2 vs. 1.96, etc. \n",
    "\n",
    "When you finish please go to Kernel --> Restart and Run All, and then double check that your notebook looks correct before submitting your .ipynb file (the notebook file) on gradescope."
   ]
  },
  {
   "cell_type": "code",
   "execution_count": 1,
   "metadata": {},
   "outputs": [],
   "source": [
    "# Run this code cell to import relevant libraries\n",
    "import numpy as np\n",
    "import pandas as pd\n",
    "from scipy import stats"
   ]
  },
  {
   "cell_type": "markdown",
   "metadata": {},
   "source": [
    "### Question 1\n",
    "The General Social Survey asked the following question to a random sample of 1,155 Americans: “After an average work day, about how many hours do you have to relax or pursue activities that you enjoy?” A 95% confidence interval for the mean number of hours spent relaxing or pursuing activities they enjoy was (1.38, 1.92).\n",
    "1. Your friend reads the survey and says it means \"95% of the survey respondents reported between 1.38 and 1.92 hours.\" Is this a valid interpretation of the confidence interval? Why or why not?\n",
    "2. Suppose another set of researchers reported a confidence interval of (1.29, 2.01) based on the same sample of 1,155 Americans. Is this indicative of a higher or lower confidence level (the percentage)?\n",
    "3. Suppose next year a new survey asking the same question is conducted, and this time the sample size\n",
    "is 2,500. Assuming that the summary statistics (mean and standard deviation) are roughly the same as before, how will the new confidence interval differ from the (1.38, 1.92) computed before? Why?"
   ]
  },
  {
   "cell_type": "markdown",
   "metadata": {},
   "source": [
    "### Answer 1\n",
    "1. No this is not a valid interpretation because a 95% confidence interval isn't about the number of respondents. A 95% confidence interval of (1.38, 1.92) means that there is a 95% chance of the mean being between those two numbers.\n",
    "2. It's indicative of a higher confidence level because there is a greater range of possibilities the mean can take on, meaning there's a higher chance that the actual mean is within these bounds.\n",
    "3. To calculate a confidence interval of 95%, we add and subtract a number S equivalent to $$\\frac{2*\\sigma}{\\sqrt{n}}$$, so as n increases, the confidence interval will become smaller based on the value of S."
   ]
  },
  {
   "cell_type": "markdown",
   "metadata": {},
   "source": [
    "### Question 2\n",
    "1. A random survey of 1,000 US adults found that 42% believe raising the minimum wage will help the economy. Using the normal distribution, construct a 95% confidence interval for the true percentage of US adults who believe this using the normal distribution.\n",
    "2. A study of 19 random Risso's dolphins finds that the average amount of micrograms of mercury per wet gram of muscle in a dolphin is 4.4, with a standard deviation of 2.3. Construct a 95% confidence interval around this empirical mean using the student's t-distribution.   "
   ]
  },
  {
   "cell_type": "code",
   "execution_count": 2,
   "metadata": {
    "scrolled": true
   },
   "outputs": [
    {
     "name": "stdout",
     "output_type": "stream",
     "text": [
      "(0.38940948891043786, 0.4505905110895621)\n",
      "(3.2914354851665495, 5.508564514833451)\n"
     ]
    }
   ],
   "source": [
    "# Code for question 2 (or can use a hand calculator and show work)\n",
    "\n",
    "# 2.1\n",
    "sigma=0.49355850717\n",
    "cinterval= stats.norm.interval(alpha=0.95,loc=.42,scale=sigma/np.sqrt(1000))\n",
    "print(cinterval)\n",
    "# 2.2\n",
    "cinterval2= stats.t.interval(alpha=0.95,df=18,loc=4.4,scale=2.3/np.sqrt(19))\n",
    "print(cinterval2)"
   ]
  },
  {
   "cell_type": "markdown",
   "metadata": {},
   "source": [
    "### Answer 2\n",
    "(0.39, 0.45)\n",
    "(3.3, 5.5)"
   ]
  },
  {
   "cell_type": "markdown",
   "metadata": {},
   "source": [
    "### Question 3\n",
    "You have a small dataset of the total number of miles that a random subset of individuals have walked over the last week: `data = [1, 3, 4, 8, 14, 23, 39, 51, 106, 319]` as defined in the code below.\n",
    "1. Construct a 95% confidence interval for the mean of `data` using the student's t-distribution.\n",
    "2. Use bootstrapping with 100,000 bootstrap resamples to construct a 95% confidence interval for the mean of `data`.\n",
    "3. Which confidence interval is more reasonable? Why?"
   ]
  },
  {
   "cell_type": "code",
   "execution_count": 3,
   "metadata": {},
   "outputs": [],
   "source": [
    "# Run but do not modify this cell\n",
    "data = np.array([1, 3, 4, 8, 14, 23, 39, 51, 106, 319])"
   ]
  },
  {
   "cell_type": "code",
   "execution_count": 4,
   "metadata": {},
   "outputs": [
    {
     "name": "stdout",
     "output_type": "stream",
     "text": [
      "(-9.412687084679476, 123.01268708467947)\n",
      "13.797500000000039 121.9\n"
     ]
    }
   ],
   "source": [
    "# Code for question 3\n",
    "mu=np.mean(data)\n",
    "sigma2=np.std(data)\n",
    "n=len(data)\n",
    "#3.1\n",
    "cinterval3= stats.t.interval(alpha=0.95,df=n-1,loc=mu,scale=sigma2/np.sqrt(n))\n",
    "print(cinterval3)\n",
    "#3.2\n",
    "bootstrap_sample= np.random.choice(data, size=(100000,n), replace=True)\n",
    "samplemeans=np.average(bootstrap_sample,axis=1)\n",
    "c1=np.percentile(samplemeans,2.5)\n",
    "c2=np.percentile(samplemeans,97.5)\n",
    "\n",
    "print(c1,c2)\n"
   ]
  },
  {
   "cell_type": "markdown",
   "metadata": {},
   "source": [
    "### Answer 3\n",
    "\n",
    "3.3 The bootstrapping convidence interval is more reasonable because we get a greater number of samples to work with from that gets us closer to an underlying distributing of the original samples."
   ]
  },
  {
   "cell_type": "markdown",
   "metadata": {},
   "source": [
    "### Question 4\n",
    "#### Part 1. \n",
    "It is believed that nearsightedness affects about 8% of all children. In a random sample of 194 children, 21 are nearsighted. Consider the following question: do these data provide evidence that the 8% value is inaccurate? State the specific hypotheses you will test to answer this question and indicate whether it is a one-sided or two-sided test (you can do either, just clarify which). Use a significance level of 0.05. Conduct the hypothesis test and calculate the p-value using the normal distribution. Interpret your result.\n",
    "\n",
    "#### Part 2.\n",
    "A USA Today/Gallup poll asked a group of unemployed and underemployed Americans if they have had major problems in their relationships with their spouse or another close family member as a result of not having a job (if unemployed) or not having a full-time job (if underemployed). 27% of the 1,145 unemployed respondents and 25% of the 675 underemployed respondents said they had major problems in relationships as a result of their employment status. Consider the following question: is the percentage of those having major problems different for unemployed versus underemployed Americans? State the specific hypotheses you will test to answer this question and indicate whether it is a one-sided or two-sided test (you can do either, just clarify which). \n",
    "\n",
    "Use a significance level of 0.05. Conduct the hypothesis test and calculate the p-value. You can do so most easily using [`scipy.stats.ttest_ind_from_stats`](https://docs.scipy.org/doc/scipy/reference/generated/scipy.stats.ttest_ind_from_stats.html#scipy.stats.ttest_ind_from_stats), though you can also look up the standard error calculations for the difference of proportions in Chapter 6.2 of the openIntro Statistics book referenced in the prepare if you wish to run the test using the normal distribution for a (very) slightly tighter p-value (you will get similar p-values and the same conclusion either way). Interpret your result."
   ]
  },
  {
   "cell_type": "markdown",
   "metadata": {},
   "source": [
    "4.1 \n",
    "\n",
    "Null Hypothesis: Our polling did not find that 8% is a good measure of nearsightedness in children.\n",
    "\n",
    "Altn Hypothesis: Our polling did find that 8% is a good measure of nearsightedness in children.\n",
    "\n",
    "Using a one sided test, a p-value of .073 was found. Because the significance level is .05, this measure is too great to reject the null hypothesis based on this sample. From the sample, we cannot say that 8% is an accurate mean probability for children with nearsightedness."
   ]
  },
  {
   "cell_type": "code",
   "execution_count": 5,
   "metadata": {},
   "outputs": [
    {
     "name": "stdout",
     "output_type": "stream",
     "text": [
      "0.07349538001845213\n"
     ]
    }
   ],
   "source": [
    "# Code for question 4\n",
    "feeder=(np.sqrt(194)*((21/194)-.08))/np.sqrt(.08*.92)\n",
    "print(1-stats.norm.cdf(feeder))"
   ]
  },
  {
   "cell_type": "markdown",
   "metadata": {},
   "source": [
    "4.2\n",
    "\n",
    "Null Hypothesis: Our polling did not find that there is a significant relationship between having relations whether underemployed or unempolyed. We used a two sided test in this calculation and found that the probability of the null hypothesis was significant, or >.05, so it cannot be ruled out that the relationship between these two measures is random.\n",
    "\n",
    "Altn Hypothesis: Our polling did find that there is a significant relationship between having relations whether underemployed or unemplyed. \n"
   ]
  },
  {
   "cell_type": "code",
   "execution_count": 6,
   "metadata": {},
   "outputs": [
    {
     "data": {
      "text/plain": [
       "Ttest_indResult(statistic=0.9368337461051707, pvalue=0.3489685143193123)"
      ]
     },
     "execution_count": 6,
     "metadata": {},
     "output_type": "execute_result"
    }
   ],
   "source": [
    "sd1=np.sqrt(.27*.73)\n",
    "sd2=np.sqrt(.25*.75)\n",
    "\n",
    "\n",
    "stats.ttest_ind_from_stats(mean1=.27, std1=sd1, nobs1=1145, mean2=.25, std2=sd2, nobs2=675)\n",
    "\n"
   ]
  },
  {
   "cell_type": "markdown",
   "metadata": {},
   "source": [
    "### Answer 4"
   ]
  },
  {
   "cell_type": "markdown",
   "metadata": {},
   "source": [
    "### Question 5\n",
    "Below we import the `university_data` dataset we have looked at before. It contains information about 311 universities in the United States. In general, private universities charge higher tuition rates than public universities. However, private universities often argue that once you take financial aid into account, the cost is often not different. In this question you will explore this issue.\n",
    "1. First, report the average `tuition` of `public` schools and the average `tuition` of `private` schools to confirm the basic notion that `private` schools charge higher tuition on average.\n",
    "2. Consider the null hypothesis that `private` and `public` universities have the same average `cost_after_aid`. Conduct a two-sided t-test to determine whether the dataset provides statistically significant evidence to reject the null hypothesis in favor of the alternative hypothesis that they have different average `cost_after_aid`. You will notice that some universities do not have a value recorded for `cost_after_aid`. For now, simply omit those universities from your analysis and assume that the remaining are a random sample of American universities. Report the resulting p-value. Interpret your results at a significance level of 0.05.\n",
    "3. In the previous step you tested for statistical significance of the difference in `cost_after_aid` between public and private schools. What is the effect size? Report the average `cost_after_aid` of `public` schools and the average `cost_after_aid` of `private` schools.\n",
    "4. In step 2 we assumed that we could omit the universities with missing data and the remainder would be a random sample of American universities. Is that assumption well justified? Consider especially the average values you computed in steps 1 and 3 and consider which universities are missing the `cost_after_aid` information. Given this, what can you say about the claim that \"private universities often argue that once you take financial aid into account, the cost is often not different?\""
   ]
  },
  {
   "cell_type": "code",
   "execution_count": 7,
   "metadata": {},
   "outputs": [
    {
     "data": {
      "text/html": [
       "<div>\n",
       "<style scoped>\n",
       "    .dataframe tbody tr th:only-of-type {\n",
       "        vertical-align: middle;\n",
       "    }\n",
       "\n",
       "    .dataframe tbody tr th {\n",
       "        vertical-align: top;\n",
       "    }\n",
       "\n",
       "    .dataframe thead th {\n",
       "        text-align: right;\n",
       "    }\n",
       "</style>\n",
       "<table border=\"1\" class=\"dataframe\">\n",
       "  <thead>\n",
       "    <tr style=\"text-align: right;\">\n",
       "      <th></th>\n",
       "      <th>act_avg</th>\n",
       "      <th>sat_avg</th>\n",
       "      <th>enrollment</th>\n",
       "      <th>city</th>\n",
       "      <th>acceptance_rate</th>\n",
       "      <th>percent_receiving_aid</th>\n",
       "      <th>cost_after_aid</th>\n",
       "      <th>state</th>\n",
       "      <th>hs_gpa_avg</th>\n",
       "      <th>tuition</th>\n",
       "      <th>Institution_name</th>\n",
       "      <th>institution_type</th>\n",
       "      <th>us_rank</th>\n",
       "    </tr>\n",
       "  </thead>\n",
       "  <tbody>\n",
       "    <tr>\n",
       "      <th>211</th>\n",
       "      <td>21.0</td>\n",
       "      <td>960.0</td>\n",
       "      <td>14622.0</td>\n",
       "      <td>Denver</td>\n",
       "      <td>61.0</td>\n",
       "      <td>NaN</td>\n",
       "      <td>NaN</td>\n",
       "      <td>CO</td>\n",
       "      <td>3.4</td>\n",
       "      <td>31209</td>\n",
       "      <td>University of Colorado--Denver</td>\n",
       "      <td>public</td>\n",
       "      <td>207.0</td>\n",
       "    </tr>\n",
       "    <tr>\n",
       "      <th>212</th>\n",
       "      <td>20.0</td>\n",
       "      <td>910.0</td>\n",
       "      <td>6999.0</td>\n",
       "      <td>North Dartmouth</td>\n",
       "      <td>76.0</td>\n",
       "      <td>NaN</td>\n",
       "      <td>NaN</td>\n",
       "      <td>MA</td>\n",
       "      <td>3.2</td>\n",
       "      <td>28285</td>\n",
       "      <td>University of Massachusetts--Dartmouth</td>\n",
       "      <td>public</td>\n",
       "      <td>207.0</td>\n",
       "    </tr>\n",
       "    <tr>\n",
       "      <th>213</th>\n",
       "      <td>20.0</td>\n",
       "      <td>950.0</td>\n",
       "      <td>10077.0</td>\n",
       "      <td>Missoula</td>\n",
       "      <td>92.0</td>\n",
       "      <td>NaN</td>\n",
       "      <td>NaN</td>\n",
       "      <td>MT</td>\n",
       "      <td>3.3</td>\n",
       "      <td>24943</td>\n",
       "      <td>University of Montana</td>\n",
       "      <td>public</td>\n",
       "      <td>207.0</td>\n",
       "    </tr>\n",
       "    <tr>\n",
       "      <th>214</th>\n",
       "      <td>19.0</td>\n",
       "      <td>NaN</td>\n",
       "      <td>18313.0</td>\n",
       "      <td>Kalamazoo</td>\n",
       "      <td>82.0</td>\n",
       "      <td>NaN</td>\n",
       "      <td>NaN</td>\n",
       "      <td>MI</td>\n",
       "      <td>3.3</td>\n",
       "      <td>14699</td>\n",
       "      <td>Western Michigan University</td>\n",
       "      <td>public</td>\n",
       "      <td>207.0</td>\n",
       "    </tr>\n",
       "    <tr>\n",
       "      <th>215</th>\n",
       "      <td>23.0</td>\n",
       "      <td>1030.0</td>\n",
       "      <td>45813.0</td>\n",
       "      <td>Miami</td>\n",
       "      <td>49.0</td>\n",
       "      <td>NaN</td>\n",
       "      <td>NaN</td>\n",
       "      <td>FL</td>\n",
       "      <td>3.9</td>\n",
       "      <td>18956</td>\n",
       "      <td>Florida International University</td>\n",
       "      <td>public</td>\n",
       "      <td>216.0</td>\n",
       "    </tr>\n",
       "    <tr>\n",
       "      <th>...</th>\n",
       "      <td>...</td>\n",
       "      <td>...</td>\n",
       "      <td>...</td>\n",
       "      <td>...</td>\n",
       "      <td>...</td>\n",
       "      <td>...</td>\n",
       "      <td>...</td>\n",
       "      <td>...</td>\n",
       "      <td>...</td>\n",
       "      <td>...</td>\n",
       "      <td>...</td>\n",
       "      <td>...</td>\n",
       "      <td>...</td>\n",
       "    </tr>\n",
       "    <tr>\n",
       "      <th>306</th>\n",
       "      <td>NaN</td>\n",
       "      <td>NaN</td>\n",
       "      <td>NaN</td>\n",
       "      <td>Cypress</td>\n",
       "      <td>96.0</td>\n",
       "      <td>NaN</td>\n",
       "      <td>NaN</td>\n",
       "      <td>CA</td>\n",
       "      <td>NaN</td>\n",
       "      <td>9000</td>\n",
       "      <td>Trident University International</td>\n",
       "      <td>proprietary</td>\n",
       "      <td>NaN</td>\n",
       "    </tr>\n",
       "    <tr>\n",
       "      <th>307</th>\n",
       "      <td>NaN</td>\n",
       "      <td>NaN</td>\n",
       "      <td>NaN</td>\n",
       "      <td>Cincinnati</td>\n",
       "      <td>NaN</td>\n",
       "      <td>NaN</td>\n",
       "      <td>NaN</td>\n",
       "      <td>OH</td>\n",
       "      <td>NaN</td>\n",
       "      <td>12416</td>\n",
       "      <td>Union Institute and University</td>\n",
       "      <td>private</td>\n",
       "      <td>NaN</td>\n",
       "    </tr>\n",
       "    <tr>\n",
       "      <th>308</th>\n",
       "      <td>NaN</td>\n",
       "      <td>NaN</td>\n",
       "      <td>NaN</td>\n",
       "      <td>Phoenix</td>\n",
       "      <td>NaN</td>\n",
       "      <td>NaN</td>\n",
       "      <td>NaN</td>\n",
       "      <td>AZ</td>\n",
       "      <td>NaN</td>\n",
       "      <td>9690</td>\n",
       "      <td>University of Phoenix</td>\n",
       "      <td>proprietary</td>\n",
       "      <td>NaN</td>\n",
       "    </tr>\n",
       "    <tr>\n",
       "      <th>309</th>\n",
       "      <td>NaN</td>\n",
       "      <td>NaN</td>\n",
       "      <td>NaN</td>\n",
       "      <td>Minneapolis</td>\n",
       "      <td>NaN</td>\n",
       "      <td>NaN</td>\n",
       "      <td>NaN</td>\n",
       "      <td>MN</td>\n",
       "      <td>NaN</td>\n",
       "      <td>12075</td>\n",
       "      <td>Walden University</td>\n",
       "      <td>proprietary</td>\n",
       "      <td>NaN</td>\n",
       "    </tr>\n",
       "    <tr>\n",
       "      <th>310</th>\n",
       "      <td>NaN</td>\n",
       "      <td>NaN</td>\n",
       "      <td>8873.0</td>\n",
       "      <td>New Castle</td>\n",
       "      <td>100.0</td>\n",
       "      <td>NaN</td>\n",
       "      <td>NaN</td>\n",
       "      <td>DE</td>\n",
       "      <td>NaN</td>\n",
       "      <td>10940</td>\n",
       "      <td>Wilmington University</td>\n",
       "      <td>private</td>\n",
       "      <td>NaN</td>\n",
       "    </tr>\n",
       "  </tbody>\n",
       "</table>\n",
       "<p>100 rows × 13 columns</p>\n",
       "</div>"
      ],
      "text/plain": [
       "     act_avg  sat_avg  enrollment             city  acceptance_rate  \\\n",
       "211     21.0    960.0     14622.0           Denver             61.0   \n",
       "212     20.0    910.0      6999.0  North Dartmouth             76.0   \n",
       "213     20.0    950.0     10077.0         Missoula             92.0   \n",
       "214     19.0      NaN     18313.0        Kalamazoo             82.0   \n",
       "215     23.0   1030.0     45813.0            Miami             49.0   \n",
       "..       ...      ...         ...              ...              ...   \n",
       "306      NaN      NaN         NaN          Cypress             96.0   \n",
       "307      NaN      NaN         NaN       Cincinnati              NaN   \n",
       "308      NaN      NaN         NaN          Phoenix              NaN   \n",
       "309      NaN      NaN         NaN      Minneapolis              NaN   \n",
       "310      NaN      NaN      8873.0       New Castle            100.0   \n",
       "\n",
       "     percent_receiving_aid  cost_after_aid state  hs_gpa_avg  tuition  \\\n",
       "211                    NaN             NaN    CO         3.4    31209   \n",
       "212                    NaN             NaN    MA         3.2    28285   \n",
       "213                    NaN             NaN    MT         3.3    24943   \n",
       "214                    NaN             NaN    MI         3.3    14699   \n",
       "215                    NaN             NaN    FL         3.9    18956   \n",
       "..                     ...             ...   ...         ...      ...   \n",
       "306                    NaN             NaN    CA         NaN     9000   \n",
       "307                    NaN             NaN    OH         NaN    12416   \n",
       "308                    NaN             NaN    AZ         NaN     9690   \n",
       "309                    NaN             NaN    MN         NaN    12075   \n",
       "310                    NaN             NaN    DE         NaN    10940   \n",
       "\n",
       "                           Institution_name institution_type  us_rank  \n",
       "211          University of Colorado--Denver           public    207.0  \n",
       "212  University of Massachusetts--Dartmouth           public    207.0  \n",
       "213                   University of Montana           public    207.0  \n",
       "214             Western Michigan University           public    207.0  \n",
       "215        Florida International University           public    216.0  \n",
       "..                                      ...              ...      ...  \n",
       "306        Trident University International      proprietary      NaN  \n",
       "307          Union Institute and University          private      NaN  \n",
       "308                   University of Phoenix      proprietary      NaN  \n",
       "309                       Walden University      proprietary      NaN  \n",
       "310                   Wilmington University          private      NaN  \n",
       "\n",
       "[100 rows x 13 columns]"
      ]
     },
     "execution_count": 7,
     "metadata": {},
     "output_type": "execute_result"
    }
   ],
   "source": [
    "# Run but do not modify this code\n",
    "uni = pd.read_csv(\"university_data.csv\")\n",
    "uni.tail(100)"
   ]
  },
  {
   "cell_type": "markdown",
   "metadata": {},
   "source": [
    "### Answer 5"
   ]
  },
  {
   "cell_type": "code",
   "execution_count": 8,
   "metadata": {},
   "outputs": [
    {
     "name": "stdout",
     "output_type": "stream",
     "text": [
      "public: \n",
      "25968.97894736842\n",
      "private: \n",
      "40871.0350877193\n"
     ]
    }
   ],
   "source": [
    "# 5.1\n",
    "privateset=uni[uni['institution_type']=='private']\n",
    "publicset=uni[uni['institution_type']=='public']\n",
    "\n",
    "publictmean=np.mean(publicset['tuition'])\n",
    "privatetmean=np.mean(privateset['tuition'])\n",
    "\n",
    "print('public: ')\n",
    "print(publictmean)\n",
    "print('private: ')\n",
    "print(privatetmean)\n",
    "# feel free to add more code cells"
   ]
  },
  {
   "cell_type": "code",
   "execution_count": 9,
   "metadata": {},
   "outputs": [
    {
     "data": {
      "text/plain": [
       "Ttest_indResult(statistic=3.721426909531116, pvalue=0.0002853807144786082)"
      ]
     },
     "execution_count": 9,
     "metadata": {},
     "output_type": "execute_result"
    }
   ],
   "source": [
    "#5.2\n",
    "publiccostafter=publicset['cost_after_aid'].dropna()\n",
    "privatecostafter=privateset['cost_after_aid'].dropna()\n",
    "\n",
    "publicmean=np.mean(publiccostafter)\n",
    "privatemean=np.mean(privatecostafter)\n",
    "\n",
    "sdpublic=np.std(publiccostafter)\n",
    "sdprivate=np.std(privatecostafter)\n",
    "\n",
    "stats.ttest_ind_from_stats(mean1=publicmean, std1=sdpublic, nobs1=len(publiccostafter), mean2=privatemean, std2=sdprivate, nobs2=len(privatecostafter))\n"
   ]
  },
  {
   "cell_type": "markdown",
   "metadata": {},
   "source": [
    "5.2 \n",
    "\n",
    "From a 2 sided hypothesis test, the p-value was found to be .0003 which is small enough to reject the null hypothesis \n",
    "of .05. There is clearly some indication that the cost of public and private schools after aid to have a relationship based on the data used in the test."
   ]
  },
  {
   "cell_type": "code",
   "execution_count": 10,
   "metadata": {},
   "outputs": [
    {
     "name": "stdout",
     "output_type": "stream",
     "text": [
      "36163.055555555555\n",
      "31647.098591549297\n"
     ]
    }
   ],
   "source": [
    "print(publicmean)\n",
    "print(privatemean)"
   ]
  },
  {
   "cell_type": "markdown",
   "metadata": {},
   "source": [
    "The effect size is about 4600. Average cost after aid of public schools is about 36,200. Average cost after aid of private schools is about 31,600."
   ]
  },
  {
   "cell_type": "markdown",
   "metadata": {},
   "source": [
    "5.4\n",
    "\n",
    "Based on the lengths of these two datasets, there is a large chunk of the college data for cost after aid missing. While we are getting around the same number of private and public in our data, more of the public schools have been dropped, so it's hard to tell what is really the case with all of this missing data. There is also a large effect size between the two data sets which is indicative of there being not enough sufficient data. "
   ]
  },
  {
   "cell_type": "code",
   "execution_count": 11,
   "metadata": {},
   "outputs": [
    {
     "name": "stdout",
     "output_type": "stream",
     "text": [
      "311\n",
      "143\n",
      "\n",
      "190\n",
      "72\n",
      "\n",
      "114\n",
      "71\n"
     ]
    }
   ],
   "source": [
    "print(len(uni['cost_after_aid']))\n",
    "print(len(uni['cost_after_aid'].dropna()))\n",
    "print()\n",
    "print(len(publicset['cost_after_aid']))\n",
    "print(len(publicset['cost_after_aid'].dropna()))\n",
    "print()\n",
    "print(len(privateset['cost_after_aid']))\n",
    "print(len(privateset['cost_after_aid'].dropna()))"
   ]
  },
  {
   "cell_type": "code",
   "execution_count": null,
   "metadata": {},
   "outputs": [],
   "source": []
  }
 ],
 "metadata": {
  "kernelspec": {
   "display_name": "Python 3",
   "language": "python",
   "name": "python3"
  },
  "language_info": {
   "codemirror_mode": {
    "name": "ipython",
    "version": 3
   },
   "file_extension": ".py",
   "mimetype": "text/x-python",
   "name": "python",
   "nbconvert_exporter": "python",
   "pygments_lexer": "ipython3",
   "version": "3.8.3"
  }
 },
 "nbformat": 4,
 "nbformat_minor": 4
}
