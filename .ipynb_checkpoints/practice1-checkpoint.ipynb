{
 "cells": [
  {
   "cell_type": "markdown",
   "metadata": {},
   "source": [
    "# Practice 1"
   ]
  },
  {
   "cell_type": "markdown",
   "metadata": {},
   "source": [
    "In this exercise, you will warm up / refresh your Python skills by analyzing some real data inside of a Jupyter notebook environment. You should write whatever **Python** code you like to solve these problems. You can search on the web for documentation and techniques to help you solve the problem. See especially the official [Python tutorial](https://docs.python.org/3/tutorial/) and [documentation](https://docs.python.org/3/).\n",
    "\n",
    "For help with Jupyter notebooks press `h` when not in edit mode for a cell or see the [documentation](https://jupyter-notebook.readthedocs.io/en/stable/).\n",
    "\n",
    "You can either print answers directly from your code or write them in the markdown cells below your code. Either way, make sure that your answers are visible and can be easily read in the notebook you submit."
   ]
  },
  {
   "cell_type": "markdown",
   "metadata": {},
   "source": [
    "## Part 1: Text\n",
    "The `text.txt` file contains the opening sentences of Charles' Dickens novel *A Tale of Two Cities*. Run the code below. It will read the file, store it in a string variable `text`, and print the first 500 characters."
   ]
  },
  {
   "cell_type": "code",
   "execution_count": 1,
   "metadata": {},
   "outputs": [],
   "source": [
    "f = open('text.txt')\n",
    "text = f.read()\n",
    "f.close()\n",
    "\n",
    "print(text[:500], '...')"
   ]
  },
  {
   "cell_type": "markdown",
   "metadata": {},
   "source": [
    "### Question 1\n",
    "Print the first and the last sentence of the text. You may assume sentences only end with a period (`'.'`).\n",
    "You may find the Python `split` method for strings to be useful: https://docs.python.org/3/library/stdtypes.html?highlight=split#str.split `sep='.'`."
   ]
  },
  {
   "cell_type": "code",
   "execution_count": 2,
   "metadata": {},
   "outputs": [],
   "source": [
    "sentences=text.split(sep='. ')\n",
    "print(sentences[0])\n",
    "print(sentences[len(sentences)-1])"
   ]
  },
  {
   "cell_type": "markdown",
   "metadata": {},
   "source": [
    "### Answer 1\n",
    "\n",
    "#### First Sentence\n",
    "it was the best of times, it was the worst of times, it was the age of wisdom, it was the age of foolishness, it was the epoch of belief, it was the epoch of incredulity, it was the season of light, it was the season of darkness, it was the spring of hope, it was the winter of despair, we had everything before us, we had nothing before us, we were all going direct to heaven, we were all going direct the other way- in short, the period was so far like the present period, that some of its noisiest authorities insisted on its being received, for good or for evil, in the superlative degree of comparison only\n",
    "\n",
    "#### Second Sentence\n",
    "thus did the year one thousand seven hundred and seventy-five conduct their greatnesses, and myriads of small creatures-the creatures of this chronicle among the rest-along the roads that lay before them."
   ]
  },
  {
   "cell_type": "markdown",
   "metadata": {},
   "source": [
    "### Question 2\n",
    "How many total vowels (`a`, `e`, `i`, `o`, `u`) appear in the text?"
   ]
  },
  {
   "cell_type": "code",
   "execution_count": 3,
   "metadata": {},
   "outputs": [],
   "source": [
    "totalvowels=text.count('a')+text.count('e')+text.count('i')+text.count('o')+text.count('u')"
   ]
  },
  {
   "cell_type": "markdown",
   "metadata": {},
   "source": [
    "### Answer 2\n",
    "1735"
   ]
  },
  {
   "cell_type": "markdown",
   "metadata": {},
   "source": [
    "### Question 3\n",
    "A trigram is a string of exactly 3 characters (or a string with length exactly 3), including blank spaces. For example, the first five trigrams in the text are:\n",
    "1. `'it '`\n",
    "2. `'t w'`\n",
    "3. `' wa'`\n",
    "4. `'was'`\n",
    "5. `'as '`\n",
    "\n",
    "What is the most common trigram in the text?   "
   ]
  },
  {
   "cell_type": "code",
   "execution_count": 4,
   "metadata": {},
   "outputs": [
    {
     "name": "stdout",
     "output_type": "stream",
     "text": [
      " th\n"
     ]
    }
   ],
   "source": [
    "count = 0\n",
    "comtrigram=''\n",
    "for i in range(len(text)-4):\n",
    "    trigram=text[i:i+3]\n",
    "    tricount=text.count(trigram)\n",
    "    if(tricount>count):\n",
    "        count=tricount\n",
    "        comtrigram=trigram\n",
    "print(comtrigram)"
   ]
  },
  {
   "cell_type": "markdown",
   "metadata": {},
   "source": [
    "### Answer 3\n",
    "trigram ' th' is most common."
   ]
  },
  {
   "cell_type": "markdown",
   "metadata": {},
   "source": [
    "## Part 2: Rides\n",
    "\n",
    "The [boston.csv](boston.csv) file contains data on weekday Uber rides in the Boston, Massachusetts metropolitan areas from the [Uber Movement](https://movement.uber.com) project. The `sourceid` and `dstid` columns contain codes corresponding to start and end locations of each ride. The `hod` column contains codes corresponding to the hour of the day the ride took place. The `ride time` column contains the length of the ride, in minutes.\n",
    "\n",
    "The code below will open the file and read the data as a list of rows, with each row represented as a string. It then prints the first four rows. Note that the first (index 0) row contains the column headers. "
   ]
  },
  {
   "cell_type": "code",
   "execution_count": 5,
   "metadata": {},
   "outputs": [
    {
     "name": "stdout",
     "output_type": "stream",
     "text": [
      "sourceid,dstid,hod,ride time\n",
      "\n",
      "584,33,7,11.866000000000001\n",
      "\n",
      "1013,1116,13,17.799333333333333\n",
      "\n",
      "884,1190,22,19.348833333333335\n",
      "\n"
     ]
    }
   ],
   "source": [
    "f = open('boston.csv')\n",
    "data = f.readlines()\n",
    "f.close()\n",
    "\n",
    "for row in data[:4]:\n",
    "    print(row)"
   ]
  },
  {
   "cell_type": "markdown",
   "metadata": {},
   "source": [
    "### Question 4\n",
    "How many rides are listed in the the file?"
   ]
  },
  {
   "cell_type": "code",
   "execution_count": 6,
   "metadata": {},
   "outputs": [
    {
     "data": {
      "text/plain": [
       "200001"
      ]
     },
     "execution_count": 6,
     "metadata": {},
     "output_type": "execute_result"
    }
   ],
   "source": [
    "len(data)"
   ]
  },
  {
   "cell_type": "markdown",
   "metadata": {},
   "source": [
    "### Answer 4\n",
    "200000 because the first row is the header."
   ]
  },
  {
   "cell_type": "markdown",
   "metadata": {},
   "source": [
    "### Question 5\n",
    "What is the maximum length of a ride?"
   ]
  },
  {
   "cell_type": "code",
   "execution_count": 30,
   "metadata": {},
   "outputs": [
    {
     "data": {
      "text/plain": [
       "['1175', '210', '7', 1471.9861666666666]"
      ]
     },
     "execution_count": 30,
     "metadata": {},
     "output_type": "execute_result"
    }
   ],
   "source": [
    "entry=[]\n",
    "for i in range(1,len(data)):\n",
    "    entry.append(data[i].split(','))\n",
    "    entry[i-1][3]=float(entry[i-1][3].strip())\n",
    "    \n",
    "max(entry, key = lambda x : x[3])\n"
   ]
  },
  {
   "cell_type": "markdown",
   "metadata": {},
   "source": [
    "### Answer 5\n",
    "1471.99 minutes is the longest ride time."
   ]
  },
  {
   "cell_type": "markdown",
   "metadata": {},
   "source": [
    "### Question 6\n",
    "What is the average length of a ride?"
   ]
  },
  {
   "cell_type": "code",
   "execution_count": 31,
   "metadata": {},
   "outputs": [
    {
     "name": "stdout",
     "output_type": "stream",
     "text": [
      "16.50239539802313\n"
     ]
    }
   ],
   "source": [
    "sum=0\n",
    "for i in range(len(data)-1):\n",
    "    numb=entry[i][3]\n",
    "    sum=sum+float(numb)\n",
    "print(sum/len(data))"
   ]
  },
  {
   "cell_type": "markdown",
   "metadata": {},
   "source": [
    "### Answer 6\n",
    "Average time=16.502317842791285 minutes"
   ]
  },
  {
   "cell_type": "markdown",
   "metadata": {},
   "source": [
    "### Question 7\n",
    "What percentage of rides are under 10 minutes?"
   ]
  },
  {
   "cell_type": "code",
   "execution_count": 32,
   "metadata": {},
   "outputs": [
    {
     "name": "stdout",
     "output_type": "stream",
     "text": [
      "0.2282888585557072\n"
     ]
    }
   ],
   "source": [
    "count=0\n",
    "arr7=entry\n",
    "for i in range(len(data)-1):\n",
    "    numb=float(arr7[i][3])\n",
    "    if(numb<10):\n",
    "        count=count+1\n",
    "print(count/len(data))"
   ]
  },
  {
   "cell_type": "markdown",
   "metadata": {},
   "source": [
    "### Answer 7\n",
    "22.828799007965278 percent of rides are under 10 minutes."
   ]
  },
  {
   "cell_type": "markdown",
   "metadata": {},
   "source": [
    "### Question 8\n",
    "For each HOD (hour of day), count how many rides take place during that hour."
   ]
  },
  {
   "cell_type": "code",
   "execution_count": 33,
   "metadata": {},
   "outputs": [
    {
     "name": "stdout",
     "output_type": "stream",
     "text": [
      "{0: 7600, 1: 6568, 2: 5555, 3: 4296, 4: 4371, 5: 5343, 6: 7424, 7: 9173, 8: 9510, 9: 9259, 10: 9053, 11: 8755, 12: 8885, 13: 8813, 14: 9688, 15: 9748, 16: 9930, 17: 9952, 18: 8365, 19: 8926, 20: 9771, 21: 9894, 22: 9863, 23: 9258}\n"
     ]
    }
   ],
   "source": [
    "hours=dict()\n",
    "arr8=entry\n",
    "for i in range(0,24):\n",
    "    hours[i]=0\n",
    "for i in range(len(data)-1):\n",
    "    hourkey=int(arr8[i][2])\n",
    "    hours[hourkey]=hours.get(hourkey)+1\n",
    "    \n",
    "print(hours)\n",
    "                                      "
   ]
  },
  {
   "cell_type": "markdown",
   "metadata": {},
   "source": [
    "### Answer 8\n",
    "{0: 7600, \n",
    "1: 6568, \n",
    "2: 5555, \n",
    "3: 4295, \n",
    "4: 4371, \n",
    "5: 5343, \n",
    "6: 7424, \n",
    "7: 9173, \n",
    "8: 9510, \n",
    "9: 9259, \n",
    "10: 9053, \n",
    "11: 8755, \n",
    "12: 8885, \n",
    "13: 8813, \n",
    "14: 9688, \n",
    "15: 9748, \n",
    "16: 9930, \n",
    "17: 9952, \n",
    "18: 8365, \n",
    "19: 8926, \n",
    "20: 9771, \n",
    "21: 9894, \n",
    "22: 9863, \n",
    "23: 9258}\n"
   ]
  },
  {
   "cell_type": "markdown",
   "metadata": {},
   "source": [
    "### Question 9\n",
    "What are the three most common **start** locations (`sourceid`) for rides in the dataset? You may find the built-in Python `sorted` function helpful; it's usage is described in https://docs.python.org/3/howto/sorting.html."
   ]
  },
  {
   "cell_type": "code",
   "execution_count": 34,
   "metadata": {},
   "outputs": [
    {
     "data": {
      "text/plain": [
       "[(885, 1181), (498, 1067), (435, 1057)]"
      ]
     },
     "execution_count": 34,
     "metadata": {},
     "output_type": "execute_result"
    }
   ],
   "source": [
    "starts=dict()\n",
    "arr9=entry\n",
    "for i in range(len(data)-1):\n",
    "    initkey=int(arr9[i][0])\n",
    "    starts[initkey]=0\n",
    "for i in range(len(data)-1):\n",
    "    startkey=int(arr9[i][0])\n",
    "    starts[startkey]=starts.get(startkey)+1\n",
    "sorted(starts.items(), key = lambda items : items[1], reverse=True)[:3]\n"
   ]
  },
  {
   "cell_type": "markdown",
   "metadata": {},
   "source": [
    "### Answer 9\n",
    "Locations 885, 498, and 435 are most common."
   ]
  },
  {
   "cell_type": "markdown",
   "metadata": {},
   "source": [
    "## Submitting\n",
    "\n",
    "You should make sure any code that you write to answer the questions is included in this notebook. Save your work. Double check that your entire notebook runs correctly and generates the expected output. To do so, you can simply select Kernel -> Restart and Run All. When you finish, submit your assignment at http://gradescope.com/."
   ]
  }
 ],
 "metadata": {
  "kernelspec": {
   "display_name": "Python 3",
   "language": "python",
   "name": "python3"
  },
  "language_info": {
   "codemirror_mode": {
    "name": "ipython",
    "version": 3
   },
   "file_extension": ".py",
   "mimetype": "text/x-python",
   "name": "python",
   "nbconvert_exporter": "python",
   "pygments_lexer": "ipython3",
   "version": "3.8.3"
  }
 },
 "nbformat": 4,
 "nbformat_minor": 2
}
