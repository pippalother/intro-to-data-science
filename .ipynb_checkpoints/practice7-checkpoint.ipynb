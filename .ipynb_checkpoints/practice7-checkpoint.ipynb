{
 "cells": [
  {
   "cell_type": "markdown",
   "metadata": {},
   "source": [
    "# Practice 7\n",
    "In this exercise, you will practice solving probability problems. Many of these will be math problems. You can write your answers in Markdown cells. Recall that you can use LaTeX to nicely format your math inside Markdown cellsby enclosing equations in single dollar signs (e.g., $x^2+4=8$) for inline math or double dollar signs for centered equations like $$P(X > 5) = \\frac{1}{6}.$$\n",
    "\n",
    "For a reference if you are new to LaTeX, see the [overleaf documentation for mathematical expressions](https://www.overleaf.com/learn/latex/mathematical_expressions). Some particular LaTeX commands you might find useful include:\n",
    "- To write a fraction, use `\\frac{numerator}{denominator}` like $\\frac{3}{4}$\n",
    "- To write set intersection and union use `\\cap` and `\\cup` respectively like $A \\cap B$ and $A \\cup B$.\n",
    "- To write a bar over something (like a set complement) use `\\overline{}` like in $\\overline{E}$.\n",
    "- To write a subscript or superscript, use `_{}` or `^{}` as in $X_{n}$ or $X^{2}$.\n",
    "- To write a sum or product, use `\\sum` or `\\prod` as in $\\sum_{i=1}^{n} X_i$ or $\\prod_{i=1}^{n} X_i$.\n",
    "\n",
    "Show your work and/or briefly explain your answers. In general, you will not receive full credit for numeric answers with no accompanying work or justification (math, code, explanation).\n",
    "\n",
    "An example of the level of explanation we are expecting is if we asked you to calculate the probability that a dice roll is even or > 3 (like in the videos), we'd first expect a translation to probabilistic terms and then transformations until you find the number like so:\n",
    "\n",
    "$$ P(even \\cup roll > 3) = P(even \\cup roll > 3) $$\n",
    "$$ =P(even) + P(roll > 3) - P(even \\cap roll > 3) $$\n",
    "$$ = \\frac{1}{2} + \\frac{1}{2} - \\frac{1}{3} $$\n",
    "$$ =\\frac{2}{3} $$\n",
    "\n",
    "When you finish please go to Kernel --> Restart and Run All, and then double check that your notebook looks correct before submitting your .ipynb file (the notebook file) on gradescope."
   ]
  },
  {
   "cell_type": "markdown",
   "metadata": {},
   "source": [
    "### Question 1\n",
    "Suppose we roll a single fair six-sided die (meaning we get a number from 1 to 6 drawn uniformly at random) and toss a single fair coin (meaning we get heads or tails each with 50% probability). For each of the following events, what is the probability of the event?\n",
    "\n",
    "1. An odd die roll and coin toss of heads.\n",
    "2. A die roll greater than or equal to 4 and anything for the coin.\n",
    "3. A coin toss of tails and anything for the die.\n",
    "4. A die roll greater than or equal to 3 or a coin toss of tails (possibly both)."
   ]
  },
  {
   "cell_type": "markdown",
   "metadata": {},
   "source": [
    "1. \n",
    "$$ P(odd \\cap heads) = \\frac{1}{2} * \\frac{1}{2} =\\frac{1}{4} $$\n",
    "2. \n",
    "$$ P(roll>=4 \\cap H\\cup T) = \\frac{1}{2} * 1 =\\frac{1}{2} $$\n",
    "3. \n",
    "$$ P(roll \\cap T) = \\frac{1}{2} * 1 =\\frac{1}{2} $$\n",
    "4. \n",
    "$$ P(T \\cup roll >= 3)$$\n",
    "$$ =P(T) + P(roll >= 3) - P(T \\cap roll >= 3) $$\n",
    "$$ = \\frac{1}{2} + \\frac{2}{3} - \\frac{1}{2} * \\frac{2}{3} $$\n",
    "$$ = \\frac{5}{6}$$"
   ]
  },
  {
   "cell_type": "markdown",
   "metadata": {},
   "source": [
    "### Question 2\n",
    "Assume 500 students enrolled in both Calculus and Physics. Of these students,\n",
    "- 82 got an A in calculus, \n",
    "- 73 got an A in physics, and \n",
    "- 42 got an A in both courses.\n",
    "\n",
    "For each of the following, compute the probability that student chosen uniformly at random:\n",
    "1. Got an A in both courses\n",
    "2. Got less than an A in at least one of the two courses\n",
    "3. Got an A in calculus but not in physics\n",
    "4. Got an A in at least one of the two courses"
   ]
  },
  {
   "cell_type": "markdown",
   "metadata": {},
   "source": [
    "1. \n",
    "$$ P(A\\ in\\ both) = \\frac{42}{500} = .084 $$\n",
    "2. \n",
    "$$ P(\\overline{A}\\ in\\ (C \\cup P)) = 1-P(A\\ in\\ (C \\cap P)) = $$\n",
    "$$ = 1 - \\frac{42}{500} = 0.916 $$\n",
    "3. \n",
    "$$ P(A\\ in\\ (C \\cap \\overline{P})) = P(A\\ in\\ C)-P(A\\ in\\ (C \\cap P)) = $$\n",
    "$$ = \\frac{82}{500}-\\frac{42}{500} = 0.08 $$\n",
    "4. \n",
    "$$ P(\\overline{A}\\ in\\ (C \\cup P))= P(A\\ in\\ C) + P(A\\ in\\ P) -P(A\\ in\\ (C \\cap P)$$\n",
    "$$\\frac{82}{500}+ \\frac{73}{500}-\\frac{42}{500}=.226$$"
   ]
  },
  {
   "cell_type": "markdown",
   "metadata": {},
   "source": [
    "### Question 3\n",
    "Consider a certain disease. Suppose that the probability $P(D)$ that a random person has the disease is 1% or 0.01.\n",
    "\n",
    "1. Suppose the probability $P(T)$ that a random person gets tested for the disease is 20% or 0.2. Also, suppose the probability $P(D \\cap T)$ that someone has the disease and gets tested is 0.5% or 0.005. What is the probability $P(D \\mid T)$ that a random person has the disease given that they get tested?\n",
    "2. Suppose the test is not 100% accurate. In particular, the probability $P(pos \\mid D)$ of a positive test result given you have the disease is 95% or 0.95. The probability $P(pos \\mid \\overline{D})$ of a positive test result given you do not have the disease is 10% or 0.1. Suppose a random person takes the test. What is the probability $P(pos)$ that they test positive? \n",
    "3. What is the probability $P(D \\mid pos)$ that a random person has the disease given that they test positive?"
   ]
  },
  {
   "cell_type": "markdown",
   "metadata": {},
   "source": [
    "1. \n",
    "\n",
    "$$ P(D|T)= \\frac{P(D \\cap T)}{P(T)}$$\n",
    "$$=\\frac{.005}{.2}=.025$$\n",
    "\n",
    "2. \n",
    "\n",
    "$$ P(pos)= P(pos|D)*P(D)+P(pos|\\overline{D})*P(\\overline{D})$$\n",
    "$$=.1*.99+.95*.01=.1085$$\n",
    "\n",
    "3. \n",
    "\n",
    "$$ P(D|pos)= \\frac{P(pos|D)*P(D)}{P(pos)}$$\n",
    "$$=\\frac{.95*.01}{.1085}=.0876$$"
   ]
  },
  {
   "cell_type": "markdown",
   "metadata": {},
   "source": [
    "### Question 4\n",
    "\n",
    "Suppose a student is taking a 50-question multiple-choice exam with 4 answer choices per question. For each question, the probability that the student knows the correct answer is 80%. The student correctly answers these questions, and guesses uniformly at random on the other questions.\n",
    "\n",
    "1. For a single quesiton, what is the student's expected score if correct answers get 2 points and incorrect answers get 0 points?\n",
    "2. What is the student's expected overall score on all 50 questions if correct answers get 2 points and incorrect answers are penalized with 0.5 negative points?"
   ]
  },
  {
   "cell_type": "markdown",
   "metadata": {},
   "source": [
    "1. \n",
    "\n",
    "$$P(C)=.85$$\n",
    "$$P(\\overline{C})=.15$$\n",
    "$$ X \\in {0,2}$$\n",
    "$$E(X)=2*P(C)+0*P(\\overline{C})=2*.85+0*.15=1.7$$\n",
    "\n",
    "2. \n",
    "\n",
    "$$P(C)=.85$$\n",
    "$$P(\\overline{C})=.15$$\n",
    "$$ X \\in {-0.5,2}$$\n",
    "$$E(X)=(2*P(C)+-.5*P(\\overline{C}))*50=(2*.85+-.5*.15)*50=81.25$$ \n",
    "Can multiply 50 onto the whole thing because expectation is a sum, and you can pull constants out of sums."
   ]
  },
  {
   "cell_type": "markdown",
   "metadata": {},
   "source": [
    "### Question 5\n",
    "To simplify this problem, assume that a year has twelve equal duration months, rather than the unequal months as in the standard Gregorian calendar. \n",
    "\n",
    "1. Assuming that people are equally likely to be born in any month, how many people must be selected independently and uniformly at random before the probability that at least two of the selected people have the same birth month is at least 1/2?\n",
    "2. Now assume that for each month among May, June, July, and August, the probability of being born in that month is 1/10, whereas for every other month the probability of being born in that month is 3/40. What is the probability that two people selected uniformly at random have the same birth month? Is this more or less than in part a? "
   ]
  },
  {
   "cell_type": "markdown",
   "metadata": {},
   "source": [
    "1. \n",
    "$$P_{n}(Match)=1-P_{n}(All\\ Unique)$$\n",
    "$$P_{1}(Match)=1-P_{1}(All\\ Unique)=1-\\frac{12}{12}=0$$\n",
    "$$P_{2}(Match)=1-P_{2}(All\\ Unique)=1-\\frac{11}{12}=\\frac{1}{12}$$\n",
    "$$P_{3}(Match)=1-P_{3}(All\\ Unique)=1-(\\frac{11}{12}*\\frac{10}{12})=.2361$$\n",
    "$$P_{4}(Match)=1-P_{4}(All\\ Unique)=1-(\\frac{11}{12}*\\frac{10}{12}*\\frac{9}{12})=0.427$$\n",
    "$$P_{5}(Match)=1-P_{5}(All\\ Unique)=1-(\\frac{11}{12}*\\frac{10}{12}*\\frac{9}{12}*\\frac{8}{12})=0.618$$\n",
    "$$n=5$$\n",
    "\n",
    "2. \n",
    "$$P(Match)=4*P(Both\\ MJJA)+8*P(Both\\ \\overline{MJJA})$$\n",
    "$$=4*\\frac{1}{100}+8*\\frac{9}{1600}=.085$$"
   ]
  },
  {
   "cell_type": "markdown",
   "metadata": {},
   "source": [
    "### Question 6\n",
    "\n",
    "1. Suppose the average/mean home price in the United States is 300,000 dollars. If we select a home uniformly at random, what is an upper bound on the probability that it's price is more than 1 million dollars? That is, provide and justify a statement of the form \"The probability that a home chosen uniformly at random has price greater than $X$ is at most $P$.\" Use Markov's inequality to provide the bound.\n",
    "2. Suppose the standard deviation in home prices is 100,000 dollars. Use Chebyshev's inequality to provide a better upper bound on the probability that a home selected unfiormly at random has price more than 1 million dollars.\n",
    "3. Suppose we have an iid sample of $n$ home prices and the empirical mean price $\\overline{X}_n$ is greater than 301,000 dollars. Assuming that we know the standard deviation in home prices is 100,000 dollars and assuming $n$ is large enough that the central limit theorem applies, how many samples $n$ would we need before we could conclude that the probability of observing $\\overline{X}_n > 301,000$ is at most 5%, assuming the true mean of the underlying distribution is 300,000 dollars?    "
   ]
  },
  {
   "cell_type": "markdown",
   "metadata": {},
   "source": [
    "1. \n",
    "$$P(X>=a)<= E(X)/a$$\n",
    "$$E(X)=300000$$\n",
    "$$a=1000000$$\n",
    "$$P(X>=1000000)<=\\frac{3}{10}$$\n",
    "The probability that a home chosen uniformly at random has price greater than  𝑋  is at most $$\\frac{3}{10}$$\n",
    "\n",
    "2. \n",
    "$$P(|X-E(X)|>k*\\sigma)<\\frac{1}{k^{2}}$$\n",
    "$$E(X)=300000$$\n",
    "$$X=1000000$$\n",
    "$$\\sigma=100000$$\n",
    "$$P(|700000|>k*100000)=<\\frac{1}{k^{2}}$$\n",
    "$$P(|X-E(X)|>7\\sigma)=<\\frac{1}{49}$$\n",
    "$$P(|X-E(X)|>7\\sigma)=<.02$$\n",
    "\n",
    "\n",
    "3. \n",
    "\n",
    "$$P(|\\overline{X}_n-\\mu|>\\frac{2\\sigma}{\\sqrt{n}})<=.95$$\n",
    "$$P(|301000-300000|>\\frac{200000}{\\sqrt{n}})$$\n",
    "$$P(1000>\\frac{200000}{\\sqrt{n}})$$\n",
    "$$n=40000$$"
   ]
  },
  {
   "cell_type": "markdown",
   "metadata": {},
   "source": [
    "### Question 7\n",
    "There were 151 \"pokemon\" in the original generation of the popular franchise. Suppose you start purchasing pokemon cards. Each card you purchase has a pokemon chosen independently and uniformly at random from the 151 possible with replacement (that is, you can get the same card multiple times). Use Monte Carlo Simulation to estimate answers to the following questions. You can use Python's `random` library or the `numpy.random` library.\n",
    "\n",
    "1. Suppose you have a particular favorite pokemon. Suppose you purchase 150 cards total. What is the probability that you will get your favorite pokemon's card? Conduct enough simulations that you are confident in your answer +/- 0.01 (or 1%).\n",
    "2. Suppose you purchase 300 cards total. What is the expected number of *unique* pokemon cards that you will have? Conduct enough simulations that you are confident in your answer +/- 1 card.  \n",
    "3. Suppose you buy 600 cards total. What is the probability that you will have all 151 unique cards? Conduct enough simulations that you are confident in your answer +/- 0.01 (or 1%).\n"
   ]
  },
  {
   "cell_type": "code",
   "execution_count": 1,
   "metadata": {},
   "outputs": [],
   "source": [
    "import numpy as np\n",
    "import random as rndm"
   ]
  },
  {
   "cell_type": "code",
   "execution_count": 2,
   "metadata": {},
   "outputs": [
    {
     "name": "stdout",
     "output_type": "stream",
     "text": [
      "0.630685\n"
     ]
    }
   ],
   "source": [
    "rndm.seed(216)\n",
    "numtimes=1000000\n",
    "count=0\n",
    "value=10\n",
    "for i in range(numtimes):\n",
    "    cards=rndm.choices(population=range(1,152), k=150)\n",
    "    if value in cards:\n",
    "        count+=1\n",
    "print(count/numtimes)"
   ]
  },
  {
   "cell_type": "markdown",
   "metadata": {},
   "source": [
    "About 0.63 +/-0.01"
   ]
  },
  {
   "cell_type": "code",
   "execution_count": 3,
   "metadata": {},
   "outputs": [
    {
     "name": "stdout",
     "output_type": "stream",
     "text": [
      "130.429831\n"
     ]
    }
   ],
   "source": [
    "rndm.seed(216)\n",
    "numtimes=1000000\n",
    "count=0\n",
    "value=10\n",
    "for i in range(numtimes):\n",
    "    uniquecards=rndm.choices(population=range(1,152), k=300)\n",
    "    count+=len(set(uniquecards))\n",
    "print(count/numtimes)"
   ]
  },
  {
   "cell_type": "markdown",
   "metadata": {},
   "source": [
    "About 130 +/-1"
   ]
  },
  {
   "cell_type": "code",
   "execution_count": 4,
   "metadata": {},
   "outputs": [
    {
     "name": "stdout",
     "output_type": "stream",
     "text": [
      "0.0514\n"
     ]
    }
   ],
   "source": [
    "rndm.seed(216)\n",
    "numtimes=100000\n",
    "count=0\n",
    "value=10\n",
    "for i in range(numtimes):\n",
    "    allcards=rndm.choices(population=range(1,152), k=600)\n",
    "    setcards=set(allcards)\n",
    "    if len(setcards) == 151:\n",
    "        count+=1\n",
    "print(count/numtimes)"
   ]
  },
  {
   "cell_type": "markdown",
   "metadata": {},
   "source": [
    "0.05 +/-0.01"
   ]
  },
  {
   "cell_type": "markdown",
   "metadata": {},
   "source": []
  }
 ],
 "metadata": {
  "kernelspec": {
   "display_name": "Python 3",
   "language": "python",
   "name": "python3"
  },
  "language_info": {
   "codemirror_mode": {
    "name": "ipython",
    "version": 3
   },
   "file_extension": ".py",
   "mimetype": "text/x-python",
   "name": "python",
   "nbconvert_exporter": "python",
   "pygments_lexer": "ipython3",
   "version": "3.8.3"
  }
 },
 "nbformat": 4,
 "nbformat_minor": 4
}
