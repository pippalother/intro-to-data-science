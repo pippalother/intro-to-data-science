{
 "cells": [
  {
   "cell_type": "markdown",
   "metadata": {},
   "source": [
    "# Perform 7\n",
    "In this exercise, you will demonstrate your learning by solving probability problems. Many of these will be math problems. You can write your answers in Markdown cells. Recall that you can use LaTeX to nicely format your math inside Markdown cellsby enclosing equations in single dollar signs (e.g., $x^2+4=8$) for inline math or double dollar signs for centered equations like $$P(X > 5) = \\frac{1}{6}.$$\n",
    "\n",
    "For a reference if you are new to LaTeX, see the [overleaf documentation for mathematical expressions](https://www.overleaf.com/learn/latex/mathematical_expressions). Some particular LaTeX commands you might find useful include:\n",
    "- To write a fraction, use `\\frac{numerator}{denominator}` like $\\frac{3}{4}$\n",
    "- To write set intersection and union use `\\cap` and `\\cup` respectively like $A \\cap B$ and $A \\cup B$.\n",
    "- To write a bar over something (like a set complement) use `\\overline{}` like in $\\overline{E}$.\n",
    "- To write a subscript or superscript, use `_{}` or `^{}` as in $X_{n}$ or $X^{2}$.\n",
    "- To write a sum or product, use `\\sum` or `\\prod` as in $\\sum_{i=1}^{n} X_i$ or $\\prod_{i=1}^{n} X_i$.\n",
    "\n",
    "Show your work and/or briefly explain your answers. In general you will not receive full credit for numeric answers with no accompanying work or justification (math, code, explanation), and we can't give you partial credit if you don't show your work. Remember the example in the practice.\n",
    "\n",
    "When you finish please go to Kernel --> Restart and Run All, and then double check that your notebook looks correct before submitting your .ipynb file (the notebook file) on gradescope."
   ]
  },
  {
   "cell_type": "markdown",
   "metadata": {},
   "source": [
    "### Question 1\n",
    "Suppose 600 individuals are on a cruise. Of the individuals:\n",
    "- 300 go snorkling\n",
    "- 450 have lunch at the restaurant\n",
    "- 200 go dancing \n",
    "- 200 go snorkling and have lunch at the restaurant\n",
    "- 100 go snorkling and go dancing\n",
    "- 100 have lunch at the restaurant and go dancing\n",
    "- 50 go snorkling, have lunch at the restaurant, and go dancing\n",
    "\n",
    "For each of the following, compute the probability that an individual chosen uniformly at random:\n",
    "1. goes snorkling and has lunch at the restaurant\n",
    "2. does not have lunch at the restaurant\n",
    "3. goes snorkling or goes dancing\n",
    "4. has lunch at the restaurant but does not go snorkling \n",
    "5. goes dancing given that they have lunch at the restaurant"
   ]
  },
  {
   "cell_type": "markdown",
   "metadata": {},
   "source": [
    "### Answer 1\n",
    "1. \n",
    "$$P(S \\cap L) = \\frac{200}{600} = \\frac{1}{3}$$\n",
    "2. \n",
    "$$P(\\overline{L})= \\frac{600-450}{600}=\\frac{1}{4}$$\n",
    "3. \n",
    "$$P(S \\cup D) = P(S) + P(D) - P(S \\cap D)$$\n",
    "$$= \\frac{300}{600} + \\frac{200}{600} - \\frac{100}{600}=\\frac{2}{3}$$\n",
    "4. \n",
    "$$P(L \\cap \\overline{S})=P(L)-P(L \\cap S)=\\frac{450}{600} - \\frac{200}{600}=\\frac{5}{12}$$\n",
    "5. \n",
    "$$ P(D|L)= \\frac{P(D \\cap L)}{P(L)}$$\n",
    "$$ = \\frac{\\frac{100}{600}}{\\frac{450}{600}}= \\frac{2}{9}$$"
   ]
  },
  {
   "cell_type": "markdown",
   "metadata": {},
   "source": [
    "### Question 2\n",
    "1. Consider a rare genetic disorder that occurs with 5\\% probability. Individuals with the genetic disorder have a 60\\% probability to develop a particular medical condition whereas individuals without the disorder only have a 10\\% probability to develop the medical condition. What is the probably that a random individual from the entire population will develop the medical condition?\n",
    "2. Suppose that for a random student, there is an 80\\% probability of passing the final exam, a 90\\% chance of passing the course, and a 99\\% of passing the course given that the student passes the final exam. Given that a student passed the course, what is the probability that the student did not pass the final exam?  \n",
    "3. Suppose that 10\\% of the cars produced on an assembly line have some defect. The car manufacturer has a test for checking for defects and for cars with defects, it correctly finds the defect with 99\\% probability. However, for cars without defects, the test incorrectly reports a defect with 5\\% probability.  What is the probability that a car has no defect given that the test reports that it has a defect?"
   ]
  },
  {
   "cell_type": "markdown",
   "metadata": {},
   "source": [
    "### Answer 2\n",
    "\n",
    "1. \n",
    "$$ P(C)= P(C|D)*P(D)+P(C|\\overline{D})*P(\\overline{D})$$\n",
    "$$=.05*.6+.95*.1=.125$$\n",
    "\n",
    "2. \n",
    "\n",
    "$$ P(\\overline{E}|C)= \\frac{P(C|\\overline{E})*P(\\overline{E})}{P(C)}$$\n",
    "$$=\\frac{.01*.2}{.9}=\\frac{2}{90}$$\n",
    "\n",
    "\n",
    "3. \n",
    "\n",
    "\n",
    "$$ P(\\overline{Def}|posT)= \\frac{P(posT|\\overline{Def})*P(\\overline{Def})}{P(posT)}$$\n",
    "$$ P(posT)=P(posT|\\overline{Def})*P(\\overline{Def})+P(posT|Def)*P(Def)$$\n",
    "$$ P(posT)= .05*.9+.99*.1 = 0.144$$\n",
    "$$ P(\\overline{Def}|posT)= \\frac{.05*.9}{0.144} = 0.3125$$"
   ]
  },
  {
   "cell_type": "markdown",
   "metadata": {},
   "source": [
    "### Question 3\n",
    "1. Suppose you are playing a game of chance. You roll a single fair 6-sided die. If the result is odd, you win a number of dollars equal to the die roll. If the result is even, you lose a number of dollars equal to the die roll. What is the expected number of dollars you will win or lose playing this game once? \n",
    "2. You play another game of chance. It proceeds in three rounds. In each round you roll a single fair 6-sided die. In the first round, if you roll a 1 you get \\\\$1. In the second round if you roll a 2 you get \\\\$2. In the third round if you roll a 3 you get \\\\$3. If at the end you have not won any of the three rounds, you lose \\\\$3. What is the expected number of dollars you will win or lose playing this game once?"
   ]
  },
  {
   "cell_type": "markdown",
   "metadata": {},
   "source": [
    "### Answer 3\n",
    "\n",
    "1. \n",
    "\n",
    "$$P(any roll)=\\frac{1}{6}$$\n",
    "$$P(\\overline{C})=.15$$\n",
    "$$ X \\in {1,2,3,4,5,6}$$\n",
    "$$E(X)= \\sum_{i=1}^{6}P(any roll)*n *(-1)^{n+1}$$\n",
    "$$E(X)= \\frac{1}{2}*(1+3+5)+\\frac{1}{2}*-(2+4+6)$$\n",
    "$$E(X)= \\frac{-3}{2}$$\n",
    "\n",
    "2. \n",
    "\n",
    "$$ X \\in {-3,1,2,3,4,5,6}$$\n",
    "$$E(X)=-3*P(no\\ wins)+1*P(win\\ only\\ on\\ 1)+2*P(win\\ only\\ on\\ 2)+3*P(win\\ only\\ on\\ 3\\ \\cup win\\ 1 \\cap 2)+3*P(win\\ 1 \\cap 3)+5*P(win\\ on\\ 2 \\cap 3)+6*(win\\ on\\ 1 \\cap 2 \\cap 3)$$\n",
    "$$E(X)=-3*(\\frac{5}{6})^{3}+1*\\frac{1}{6}*\\frac{5}{6}*\\frac{5}{6}+2*\\frac{1}{6}*\\frac{5}{6}*\\frac{5}{6}+3*((\\frac{1}{6}*\\frac{5}{6}*\\frac{5}{6})+(\\frac{1}{6}*\\frac{1}{6}*\\frac{5}{6}))+4*\\frac{1}{6}*\\frac{1}{6}*\\frac{5}{6}+5*\\frac{1}{6}*\\frac{1}{6}*\\frac{5}{6}+6*(\\frac{1}{6})^{3}$$\n",
    "$$E(X)=-3*(\\frac{5}{6})^{3}+3*\\frac{1}{6}*\\frac{5}{6}*\\frac{5}{6}+3*((\\frac{1}{6}*\\frac{5}{6}*\\frac{5}{6})+(\\frac{1}{6}*\\frac{1}{6}*\\frac{5}{6}))+9*\\frac{1}{6}*\\frac{1}{6}*\\frac{5}{6}+6*(\\frac{1}{6})^{3}$$\n",
    "$$E(X)=-53/72$$"
   ]
  },
  {
   "cell_type": "markdown",
   "metadata": {},
   "source": [
    "### Question 4\n",
    "Suppose you toss a coin $n$ times and observe that 51\\% of the time the result is heads. Assuming $n$ is large enough to use the central limit theorem, how large would $n$ need to be before you could conclude that the probability that the coin is fair (50/50 percent chance of heads or tails) is at most 5\\%? *Hint*: To calculate this it may help to define an appropriate random variable whose expectation is the quantity of interest based on a fair coin toss and calculate its variance."
   ]
  },
  {
   "cell_type": "markdown",
   "metadata": {},
   "source": [
    "### Answer 4\n",
    "\n",
    "$$P(|\\overline{X}_n-\\mu|>\\frac{2\\sigma}{\\sqrt{n}})<=.95$$\n",
    "$$X~bin(.5)$$\n",
    "$$E(X)=.5$$\n",
    "$$\\sigma(X)=\\sqrt{E(X)*(1-E(X))}=.5$$\n",
    "$$P(|.51-.5|>\\frac{2*.5}{\\sqrt{n}})<=.95$$\n",
    "$$P(.01>\\frac{1}{\\sqrt{n}})<=.95$$\n",
    "$$n=10000$$"
   ]
  },
  {
   "cell_type": "markdown",
   "metadata": {},
   "source": [
    "### Question 5\n",
    "In the US presidential election, there are typically two candidates: a Democratic candidate and a Republican candidate. Each state has a number of electoral college votes. The candidate who wins the most votes in a state receives all of the electoral college votes for that particular state (there are a couple of exceptions, but to keep things simple we will assume this is how it works for all states). A candidate who wins at least 270 electoral college votes wins the national election. \n",
    "\n",
    "#### *The Data*\n",
    "Below we import the `polls.csv` dataset describing the 2020 US presidential election and preview the first few rows. For each of the 50 states in the USA plus Washington D.C. (which has electoral college votes like a state), the dataset records:\n",
    "- `d_percent`: The percent of polled voters indicating they will vote for the Democratic candidate in the 2020 presidential election.\n",
    "- `r_percent`: The percent of polled voters indicating they will vote for the Republican candidate in the 2020 presidential election.\n",
    "- `ec_weight`: The number of electoral college votes controlled by the particular state.  \n",
    "\n",
    "#### *What you will do*\n",
    "**In this question, you will write a Monte Carlo simulation to understand the probabilities of the following three events.** This is based roughly on the idea of computational models for predicting election outcomes such as those you may have seen recently in the news. \n",
    "- $D$: the Democratic candidate wins at least 270 electoral college votes (and thus the presidential election)\n",
    "- $R$: the Republican candidate wins at least 270 electoral college votes (and thus the presidential election) \n",
    "- $U$: neither candidate gets 270 electoral college votes and the election is undecided.\n",
    " \n",
    "#### *How you will do it*\n",
    "To do so, model the uncertainty in the poll numbers as follows. \n",
    "1. For each simulation, for each state independently, draw 0-mean normally distributed random `noise` for a given standard deviation estimate $\\sigma$. You can do so, for example, using [numpy.random.normal](https://numpy.org/doc/stable/reference/random/generated/numpy.random.normal.html). This reflects the assumption that the poll numbers are not certain and could vary in either direction by one or two standard deviations.\n",
    "2. Add `noise` (independently for each state) to `d_percent` and subtract `noise` from `r_percent`. So if you get `noise = 1.5`, `d_percent = 42`, and `r_percent = 57` you would get `43.5` for the new `d_percent` and `55.5` for the new `r_percent`. \n",
    "\n",
    "Then for a given simulation you can check which of $D$, $R$, or $U$ occur by checking, for each state, which candidate gets a larger share of the vote, and adding up their electoral votes accross all of the states. Make sure that each simulation starts with the original values from the `polls` dataset not the results from the previous simulation. \n",
    "\n",
    "Code the simulation and then **run 10,000 simulations for each of the following values of $\\sigma$: 1, 5, and 10. For each, report the empirical probability of the events $D$, $R$, and $U$.** You should therefore report a total of 9 values. It may take a few seconds for your simulations to run, but if they are running for minutes, you are likely writing inefficient loops instead of taking advantage of efficient Pandas and Numpy operations. You will need one loop over the 10,000 simulations but should not need any others.\n",
    "\n",
    "Hint: We **strongly recommend** you write a function that runs and returns the results of a single simulation. It’ll make your code easier to write and understand."
   ]
  },
  {
   "cell_type": "code",
   "execution_count": 36,
   "metadata": {},
   "outputs": [
    {
     "data": {
      "text/html": [
       "<div>\n",
       "<style scoped>\n",
       "    .dataframe tbody tr th:only-of-type {\n",
       "        vertical-align: middle;\n",
       "    }\n",
       "\n",
       "    .dataframe tbody tr th {\n",
       "        vertical-align: top;\n",
       "    }\n",
       "\n",
       "    .dataframe thead th {\n",
       "        text-align: right;\n",
       "    }\n",
       "</style>\n",
       "<table border=\"1\" class=\"dataframe\">\n",
       "  <thead>\n",
       "    <tr style=\"text-align: right;\">\n",
       "      <th></th>\n",
       "      <th>state</th>\n",
       "      <th>d_percent</th>\n",
       "      <th>r_percent</th>\n",
       "      <th>ec_weight</th>\n",
       "    </tr>\n",
       "  </thead>\n",
       "  <tbody>\n",
       "    <tr>\n",
       "      <th>0</th>\n",
       "      <td>alabama</td>\n",
       "      <td>37</td>\n",
       "      <td>62</td>\n",
       "      <td>9</td>\n",
       "    </tr>\n",
       "    <tr>\n",
       "      <th>1</th>\n",
       "      <td>alaska</td>\n",
       "      <td>44</td>\n",
       "      <td>55</td>\n",
       "      <td>3</td>\n",
       "    </tr>\n",
       "    <tr>\n",
       "      <th>2</th>\n",
       "      <td>arizona</td>\n",
       "      <td>50</td>\n",
       "      <td>49</td>\n",
       "      <td>11</td>\n",
       "    </tr>\n",
       "    <tr>\n",
       "      <th>3</th>\n",
       "      <td>arkansas</td>\n",
       "      <td>35</td>\n",
       "      <td>64</td>\n",
       "      <td>6</td>\n",
       "    </tr>\n",
       "    <tr>\n",
       "      <th>4</th>\n",
       "      <td>california</td>\n",
       "      <td>64</td>\n",
       "      <td>35</td>\n",
       "      <td>55</td>\n",
       "    </tr>\n",
       "  </tbody>\n",
       "</table>\n",
       "</div>"
      ],
      "text/plain": [
       "        state  d_percent  r_percent  ec_weight\n",
       "0     alabama         37         62          9\n",
       "1      alaska         44         55          3\n",
       "2     arizona         50         49         11\n",
       "3    arkansas         35         64          6\n",
       "4  california         64         35         55"
      ]
     },
     "execution_count": 36,
     "metadata": {},
     "output_type": "execute_result"
    }
   ],
   "source": [
    "import pandas as pd\n",
    "polls = pd.read_csv(\"polls.csv\")\n",
    "polls.head()"
   ]
  },
  {
   "cell_type": "code",
   "execution_count": 33,
   "metadata": {},
   "outputs": [],
   "source": [
    "import numpy as np"
   ]
  },
  {
   "cell_type": "markdown",
   "metadata": {},
   "source": [
    "### Answer 5"
   ]
  },
  {
   "cell_type": "code",
   "execution_count": 35,
   "metadata": {},
   "outputs": [
    {
     "name": "stdout",
     "output_type": "stream",
     "text": [
      "1\n",
      "Democrat empirical probability:\n",
      "0.6966\n",
      "Republican empirical probability:\n",
      "0.3034\n",
      "Undecided empirical probability:\n",
      "0.0\n",
      "5\n",
      "Democrat empirical probability:\n",
      "0.5468\n",
      "Republican empirical probability:\n",
      "0.4532\n",
      "Undecided empirical probability:\n",
      "0.0\n",
      "10\n",
      "Democrat empirical probability:\n",
      "0.5131\n",
      "Republican empirical probability:\n",
      "0.4869\n",
      "Undecided empirical probability:\n",
      "0.0\n"
     ]
    }
   ],
   "source": [
    "dcount=0\n",
    "rcount=0\n",
    "ucount=0\n",
    "sigma=[1,5,10]\n",
    "sims=10000\n",
    "ec=polls['ec_weight']\n",
    "dpcent=polls['d_percent']\n",
    "rpcent=polls['r_percent']\n",
    "\n",
    "def whowon(sigma,dpcent,rpcent,ecollege):\n",
    "    noisecalc=np.random.normal(loc=0.0, scale=sigma, size=None)\n",
    "    dnoise=dpcent+noisecalc\n",
    "    rnoise=rpcent-noisecalc\n",
    "    dsum=ecollege[dnoise>rnoise].sum()\n",
    "    rsum=ecollege[rnoise>dnoise].sum()\n",
    "    if dsum>=270:\n",
    "        return 0\n",
    "    if rsum>=270 :\n",
    "        return 1\n",
    "    else:\n",
    "        return -1\n",
    "    \n",
    "for s in sigma:\n",
    "    dcount=0\n",
    "    rcount=0\n",
    "    ucount=0\n",
    "    for i in range(sims):\n",
    "        winner=whowon(s,dpcent,rpcent,ec)\n",
    "        \n",
    "        if winner==0:\n",
    "            dcount+=1\n",
    "        if winner==1:\n",
    "            rcount+=1\n",
    "        if winner==-1:\n",
    "            ucount+=1\n",
    "    print(s)\n",
    "    print(\"Democrat empirical probability:\")\n",
    "    print(dcount/sims)\n",
    "    print(\"Republican empirical probability:\")\n",
    "    print(rcount/sims)\n",
    "    print(\"Undecided empirical probability:\")\n",
    "    print(ucount/sims)"
   ]
  },
  {
   "cell_type": "code",
   "execution_count": null,
   "metadata": {},
   "outputs": [],
   "source": []
  }
 ],
 "metadata": {
  "kernelspec": {
   "display_name": "Python 3",
   "language": "python",
   "name": "python3"
  },
  "language_info": {
   "codemirror_mode": {
    "name": "ipython",
    "version": 3
   },
   "file_extension": ".py",
   "mimetype": "text/x-python",
   "name": "python",
   "nbconvert_exporter": "python",
   "pygments_lexer": "ipython3",
   "version": "3.8.3"
  }
 },
 "nbformat": 4,
 "nbformat_minor": 4
}
