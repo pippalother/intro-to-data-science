{
 "cells": [
  {
   "cell_type": "markdown",
   "metadata": {},
   "source": [
    "# Perform 3"
   ]
  },
  {
   "cell_type": "markdown",
   "metadata": {},
   "source": [
    "In this assignment, you will demonstrate your mastery with wrangling data through different formats, with missing data, and working with text.\n",
    "\n",
    "You can either print answers directly from your code or write them in the markdown cells below your code. Either way, make sure that your answers are visible and can be easily read in the final notebook you turn in."
   ]
  },
  {
   "cell_type": "markdown",
   "metadata": {},
   "source": [
    "## Part 1: Text wrangling and regular expressions\n",
    "In this part we will work with the citation file exported from the [Nature Review Article](https://www.nature.com/articles/s41586-020-2649-2) *Array Programming with NumPy*. Below we read the file into the Python variable `cite` and print the result for you to preview."
   ]
  },
  {
   "cell_type": "code",
   "execution_count": 1,
   "metadata": {
    "scrolled": true
   },
   "outputs": [],
   "source": [
    "# Run but do not modify this code\n",
    "with open(\"numpy_nature.txt\") as f:\n",
    "    cite = f.read()\n",
    "\n",
    "print(cite)"
   ]
  },
  {
   "cell_type": "markdown",
   "metadata": {},
   "source": [
    "### Question 1 (4 points)\n",
    "There are several authors, each recorded on a separate line beginning with `AU`. Create a Python list of all of the author names formatted as in the file but without the extra characters and whitespace (i.e., without the `AU  - ` or the newline `\\n` characters). Your list should be of the form `['Harris, Charles R.', 'Millman, K. Jarrod', ..., 'Oliphant, Travis E.']`. When you are finished, print the resulting list. "
   ]
  },
  {
   "cell_type": "code",
   "execution_count": 2,
   "metadata": {},
   "outputs": [],
   "source": [
    "newtxt=cite.split(\"-\")\n",
    "\n",
    "newtxt.remove(newtxt[0])\n",
    "newtxt.remove(newtxt[0])\n",
    "newtxt=[x.strip(\"\\nAU,\\nPY, ,\") for x in newtxt]\n",
    "index = newtxt.index('Oliphant, Travis E.')\n",
    "print(newtxt[0:index+1])"
   ]
  },
  {
   "cell_type": "markdown",
   "metadata": {},
   "source": [
    "### Question 2 (4 points)\n",
    "Create a Pandas DataFrame that contains three columns: one for first names, one for middle names, and one for last names for all of the authors. You should use descriptive column names, but you can use the default primary index (the row labels) of 0, 1, 2, etc. Thus, the first few rows of your dataframe might look like the table pictured below. You are welcome to use the results of the prior question to asnwer this problem.\n",
    "\n",
    "|      | first      | middle     | last         |\n",
    "| ---- | ---------- | ---------- | ------------ |\n",
    "| 0\t   | Charles    | R.         | Harris       |\n",
    "| 1\t   | K.\t        | Jarrod     | Millman      |\n",
    "| 2\t   | Stéfan     | J.         | van der Walt |\n",
    "| 3    | Ralf       |            | Gommers      |\n",
    "| 4\t   | Pauli      |            | Virtanen     |   \n",
    "\n",
    "Note that some authors do not have any middle names, in which case you can leave the middle name column blank. When you are finished, display the first 10 rows of the resulting dataframe by calling `pd.head(10)` (where Pandas has been imported as `pd`)."
   ]
  },
  {
   "cell_type": "code",
   "execution_count": 3,
   "metadata": {},
   "outputs": [],
   "source": [
    "# Run but do not modify this code\n",
    "import pandas as pd"
   ]
  },
  {
   "cell_type": "code",
   "execution_count": 4,
   "metadata": {},
   "outputs": [],
   "source": [
    "namedftxt=newtxt[0:index+1]\n",
    "first=[]\n",
    "middle=[]\n",
    "last=[]\n",
    "FandM=[]\n",
    "for x in namedftxt:\n",
    "    sepname=x.split(\",\")\n",
    "    last.append(sepname[0])\n",
    "    if(len(sepname)>1):\n",
    "        FandM.append(sepname[1].lstrip())\n",
    "    else:\n",
    "        FandM.append(sepname[0].lstrip())\n",
    "\n",
    "for i in FandM:\n",
    "    sepname2=i.split(\" \")\n",
    "    first.append(sepname2[0])\n",
    "    if(len(sepname2)>1):\n",
    "        middle.append(sepname2[1])\n",
    "    else:\n",
    "        middle.append(\" \")\n",
    "cols=tuple(zip(first, middle,last))"
   ]
  },
  {
   "cell_type": "code",
   "execution_count": 5,
   "metadata": {},
   "outputs": [],
   "source": [
    "df = pd.DataFrame(cols, columns =['first', 'middle', 'last'], dtype = str) \n"
   ]
  },
  {
   "cell_type": "code",
   "execution_count": 6,
   "metadata": {},
   "outputs": [
    {
     "data": {
      "text/html": [
       "<div>\n",
       "<style scoped>\n",
       "    .dataframe tbody tr th:only-of-type {\n",
       "        vertical-align: middle;\n",
       "    }\n",
       "\n",
       "    .dataframe tbody tr th {\n",
       "        vertical-align: top;\n",
       "    }\n",
       "\n",
       "    .dataframe thead th {\n",
       "        text-align: right;\n",
       "    }\n",
       "</style>\n",
       "<table border=\"1\" class=\"dataframe\">\n",
       "  <thead>\n",
       "    <tr style=\"text-align: right;\">\n",
       "      <th></th>\n",
       "      <th>first</th>\n",
       "      <th>middle</th>\n",
       "      <th>last</th>\n",
       "    </tr>\n",
       "  </thead>\n",
       "  <tbody>\n",
       "    <tr>\n",
       "      <th>0</th>\n",
       "      <td>Charles</td>\n",
       "      <td>R.</td>\n",
       "      <td>Harris</td>\n",
       "    </tr>\n",
       "    <tr>\n",
       "      <th>1</th>\n",
       "      <td>K.</td>\n",
       "      <td>Jarrod</td>\n",
       "      <td>Millman</td>\n",
       "    </tr>\n",
       "    <tr>\n",
       "      <th>2</th>\n",
       "      <td>Stéfan</td>\n",
       "      <td>J.</td>\n",
       "      <td>van der Walt</td>\n",
       "    </tr>\n",
       "    <tr>\n",
       "      <th>3</th>\n",
       "      <td>Ralf</td>\n",
       "      <td></td>\n",
       "      <td>Gommers</td>\n",
       "    </tr>\n",
       "    <tr>\n",
       "      <th>4</th>\n",
       "      <td>Pauli</td>\n",
       "      <td></td>\n",
       "      <td>Virtanen</td>\n",
       "    </tr>\n",
       "    <tr>\n",
       "      <th>5</th>\n",
       "      <td>David</td>\n",
       "      <td></td>\n",
       "      <td>Cournapeau</td>\n",
       "    </tr>\n",
       "    <tr>\n",
       "      <th>6</th>\n",
       "      <td>Eric</td>\n",
       "      <td></td>\n",
       "      <td>Wieser</td>\n",
       "    </tr>\n",
       "    <tr>\n",
       "      <th>7</th>\n",
       "      <td>Julian</td>\n",
       "      <td></td>\n",
       "      <td>Taylor</td>\n",
       "    </tr>\n",
       "    <tr>\n",
       "      <th>8</th>\n",
       "      <td>Sebastian</td>\n",
       "      <td></td>\n",
       "      <td>Berg</td>\n",
       "    </tr>\n",
       "    <tr>\n",
       "      <th>9</th>\n",
       "      <td>Nathaniel</td>\n",
       "      <td>J.</td>\n",
       "      <td>Smith</td>\n",
       "    </tr>\n",
       "  </tbody>\n",
       "</table>\n",
       "</div>"
      ],
      "text/plain": [
       "       first  middle          last\n",
       "0    Charles      R.        Harris\n",
       "1         K.  Jarrod       Millman\n",
       "2     Stéfan      J.  van der Walt\n",
       "3       Ralf               Gommers\n",
       "4      Pauli              Virtanen\n",
       "5      David            Cournapeau\n",
       "6       Eric                Wieser\n",
       "7     Julian                Taylor\n",
       "8  Sebastian                  Berg\n",
       "9  Nathaniel      J.         Smith"
      ]
     },
     "execution_count": 6,
     "metadata": {},
     "output_type": "execute_result"
    }
   ],
   "source": [
    "df.head(10)"
   ]
  },
  {
   "cell_type": "markdown",
   "metadata": {},
   "source": [
    "### Question 3 (6 points)\n",
    "Below we extract the abstract from the citation and store it in a string variable `abstract`. Write regular expressions to answer the following questions about the abstract.\n",
    "\n",
    "1. Print the starting index of everywhere `NumPy` appears in the abstract (i.e., the index of the `N` wherever `NumPy` occurs in the `abstract` string).\n",
    "2. Print all of the capitalized words in `abstract`, including words with extra capitalized letters like `NumPy`.\n",
    "3. Print all of the words that immediately follow `NumPy`, but do not include the word `NumPy` itself. Note that in one occurrence it is hyphenated `NumPy-like`, in which case your code can return `-like` or `like` as you prefer."
   ]
  },
  {
   "cell_type": "code",
   "execution_count": 7,
   "metadata": {},
   "outputs": [
    {
     "name": "stdout",
     "output_type": "stream",
     "text": [
      "Array programming provides a powerful, compact and expressive syntax for accessing, manipulating and operating on data in vectors, matrices and higher-dimensional arrays. NumPy is the primary array programming library for the Python language. It has an essential role in research analysis pipelines in fields as diverse as physics, chemistry, astronomy, geoscience, biology, psychology, materials science, engineering, finance and economics. For example, in astronomy, NumPy was an important part of the software stack used in the discovery of gravitational waves1 and in the first imaging of a black hole2. Here we review how a few fundamental array concepts lead to a simple and powerful programming paradigm for organizing, exploring and analysing scientific data. NumPy is the foundation upon which the scientific Python ecosystem is constructed. It is so pervasive that several projects, targeting audiences with specialized needs, have developed their own NumPy-like interfaces and array objects. Owing to its central position in the ecosystem, NumPy increasingly acts as an interoperability layer between such array computation libraries and, together with its application programming interface (API), provides a flexible framework to support the next decade of scientific and industrial analysis.\n"
     ]
    }
   ],
   "source": [
    "# Run but do not modify this code\n",
    "import re\n",
    "abstract_query = re.compile(r\"AB  - (.+)\")\n",
    "abstract = re.search(abstract_query, cite).group(1)\n",
    "print(abstract)"
   ]
  },
  {
   "cell_type": "code",
   "execution_count": 8,
   "metadata": {},
   "outputs": [
    {
     "name": "stdout",
     "output_type": "stream",
     "text": [
      "171\n",
      "469\n",
      "768\n",
      "962\n",
      "1051\n",
      "['Array', 'NumPy', 'Python', 'It', 'For', 'NumPy', 'Here', 'NumPy', 'Python', 'It', 'NumPy-like', 'Owing', 'NumPy', 'API']\n",
      "\n",
      "[' is', ' was', ' is', '-like', ' increasingly']\n"
     ]
    }
   ],
   "source": [
    "#1\n",
    "arry=re.finditer(r'NumPy', abstract)\n",
    "for i in arry:\n",
    "    print(i.start())\n",
    "#2\n",
    "query1 = re.compile(r\"[A-Z]+[A-Z,a-z,-]*\")\n",
    "print(re.findall(query1, abstract))\n",
    "print(\"\")\n",
    "#3\n",
    "query2 = re.compile(r'NumPy([\" \",-]+[A-Z,a-z,-]+)')\n",
    "print(re.findall(query2, abstract))"
   ]
  },
  {
   "cell_type": "markdown",
   "metadata": {},
   "source": [
    "## Part 2: Cleaning up more system logs CSV\n",
    "In this part we work with a piece of messy tabular data in the form of a poorly formatted csv file containing data about programs running on computer systems. It contains all of the data about system time and memory from Practice 3, but also includes new information about user ids and machine ids, and some data are missing in every column. (The user ids are made up and do not correspond to any real individuals).  "
   ]
  },
  {
   "cell_type": "markdown",
   "metadata": {},
   "source": [
    "### Question 4 (6 points)\n",
    "Below, we import the dataset using the Pandas `read_csv` function that creates a dataframe. Run the code; it will preview the first five rows. "
   ]
  },
  {
   "cell_type": "code",
   "execution_count": 9,
   "metadata": {},
   "outputs": [
    {
     "data": {
      "text/html": [
       "<div>\n",
       "<style scoped>\n",
       "    .dataframe tbody tr th:only-of-type {\n",
       "        vertical-align: middle;\n",
       "    }\n",
       "\n",
       "    .dataframe tbody tr th {\n",
       "        vertical-align: top;\n",
       "    }\n",
       "\n",
       "    .dataframe thead th {\n",
       "        text-align: right;\n",
       "    }\n",
       "</style>\n",
       "<table border=\"1\" class=\"dataframe\">\n",
       "  <thead>\n",
       "    <tr style=\"text-align: right;\">\n",
       "      <th></th>\n",
       "      <th>System Time second</th>\n",
       "      <th>System Memory GB</th>\n",
       "      <th>System Memory MB</th>\n",
       "      <th>System User ID</th>\n",
       "      <th>System Machine ID</th>\n",
       "    </tr>\n",
       "  </thead>\n",
       "  <tbody>\n",
       "    <tr>\n",
       "      <th>0</th>\n",
       "      <td>?</td>\n",
       "      <td>?</td>\n",
       "      <td>?</td>\n",
       "      <td>User ID: yw22</td>\n",
       "      <td>Machine ID: Carrot</td>\n",
       "    </tr>\n",
       "    <tr>\n",
       "      <th>1</th>\n",
       "      <td>System Time: 40 second</td>\n",
       "      <td>System Mem: 3 Gb</td>\n",
       "      <td>382 Mb</td>\n",
       "      <td>?</td>\n",
       "      <td>?</td>\n",
       "    </tr>\n",
       "    <tr>\n",
       "      <th>2</th>\n",
       "      <td>?</td>\n",
       "      <td>System Mem: 2 Gb</td>\n",
       "      <td>271 Mb</td>\n",
       "      <td>User ID: tp7</td>\n",
       "      <td>Machine ID: Asparagus</td>\n",
       "    </tr>\n",
       "    <tr>\n",
       "      <th>3</th>\n",
       "      <td>System Time: 31 second</td>\n",
       "      <td>System Mem: 3 Gb</td>\n",
       "      <td>493 Mb</td>\n",
       "      <td>?</td>\n",
       "      <td>Machine ID: Eggplant</td>\n",
       "    </tr>\n",
       "    <tr>\n",
       "      <th>4</th>\n",
       "      <td>System Time: 37 second</td>\n",
       "      <td>System Mem: 3 Gb</td>\n",
       "      <td>411 Mb</td>\n",
       "      <td>?</td>\n",
       "      <td>Machine ID: Asparagus</td>\n",
       "    </tr>\n",
       "  </tbody>\n",
       "</table>\n",
       "</div>"
      ],
      "text/plain": [
       "       System Time second   System Memory GB System Memory MB System User ID  \\\n",
       "0                       ?                  ?                ?  User ID: yw22   \n",
       "1  System Time: 40 second   System Mem: 3 Gb           382 Mb              ?   \n",
       "2                       ?   System Mem: 2 Gb           271 Mb   User ID: tp7   \n",
       "3  System Time: 31 second   System Mem: 3 Gb           493 Mb              ?   \n",
       "4  System Time: 37 second   System Mem: 3 Gb           411 Mb              ?   \n",
       "\n",
       "       System Machine ID  \n",
       "0     Machine ID: Carrot  \n",
       "1                      ?  \n",
       "2  Machine ID: Asparagus  \n",
       "3   Machine ID: Eggplant  \n",
       "4  Machine ID: Asparagus  "
      ]
     },
     "execution_count": 9,
     "metadata": {},
     "output_type": "execute_result"
    }
   ],
   "source": [
    "# Run but do not modify this code\n",
    "import pandas as pd\n",
    "import numpy as np\n",
    "sys_df = pd.read_csv(\"more_monitor.csv\")\n",
    "sys_df.head()"
   ]
  },
  {
   "cell_type": "markdown",
   "metadata": {},
   "source": [
    "There are several formatting issues with the default import. Address the following.\n",
    "\n",
    "1. The `System User ID` and `System Machine ID` contain String data with the redundant information `User ID: ` and `Machine ID: ` in every row that has data. Remove these prefixes so that the columns only contain the user ids and machine ids themselves (for example, the first row should just have `yw22` in the `System User ID` column and `Carrot` in the `System Machine ID` column. \n",
    "2. The first three columns for `System Time second`, `System Memory GB` and `System Memory MB` contain numerical data but are currently formatted as strings with redundant prefix information repeating the column label and missing data represented as the string `?` instead of the Numpy `NaN` sentinel value. Fix this so that each value in the first three columns is either a single numerical value or `NaN` (note, you should use the actual `np.NaN` sentinal value, not just the String with the characters `N`, `a`, and `N`). For example, when you are done, the first three columns of the first row should all have `NaN` values, the second row should be `40`, `3`, and `382`, and so on. Note that the rows at index `400` and on have System Time recorded in minutes instead of seconds, be sure to convert these to seconds by mulitplying by 60.\n",
    "3. Currently the System Memory is split accross two columns, one for the GB and one for the MB. For example, the total memory of the first program is 3 GB and 414 MB. Instead, represent the full system memory in the `System Memory GB` column, and get rid of the `System Memory MB` column. To do so, you need to convert the values in the MB column to GB (1 MB is 0.001 GB) and add that to the GB column, then use the [`drop` method](https://pandas.pydata.org/pandas-docs/stable/reference/api/pandas.DataFrame.drop.html). Missing values should remain missing after this transformation.\n",
    "\n",
    "When you are finished, `sys_df` should have the above issues corrected. Run both of the cells with `sys_df.head()` and `sys_df.tail()` to show the first and last few rows of your dataframe."
   ]
  },
  {
   "cell_type": "code",
   "execution_count": 10,
   "metadata": {},
   "outputs": [],
   "source": [
    "#1\n",
    "sys_df['System User ID']=sys_df['System User ID'].str.lstrip('User ID:')\n",
    "\n",
    "sys_df['System Machine ID']=sys_df['System Machine ID'].str.lstrip('Machine ID:')\n",
    "#2\n",
    "sys_df['System Time second']=sys_df['System Time second'].str.extract(r'([0-9]+)')\n",
    "sys_df['System Time second']=sys_df['System Time second'].astype(float)\n",
    "arr=sys_df['System Time second']\n",
    "arr1=arr[:400]\n",
    "arr2=arr[400:]*60\n",
    "sys_df['System Time second']=np.concatenate((arr1, arr2))\n",
    "sys_df['System Memory GB']=sys_df['System Memory GB'].str.extract(r'([0-9]+)').astype(float)\n",
    "sys_df['System Memory MB']=sys_df['System Memory MB'].str.extract(r'([0-9]+)').astype(float)\n",
    "#3\n",
    "sys_df['System Memory GB']=sys_df['System Memory GB']+(sys_df['System Memory MB']/1000)\n",
    "sys_df=sys_df.drop(['System Memory MB'], axis=1)\n",
    "\n",
    "\n"
   ]
  },
  {
   "cell_type": "code",
   "execution_count": 50,
   "metadata": {},
   "outputs": [
    {
     "data": {
      "text/html": [
       "<div>\n",
       "<style scoped>\n",
       "    .dataframe tbody tr th:only-of-type {\n",
       "        vertical-align: middle;\n",
       "    }\n",
       "\n",
       "    .dataframe tbody tr th {\n",
       "        vertical-align: top;\n",
       "    }\n",
       "\n",
       "    .dataframe thead th {\n",
       "        text-align: right;\n",
       "    }\n",
       "</style>\n",
       "<table border=\"1\" class=\"dataframe\">\n",
       "  <thead>\n",
       "    <tr style=\"text-align: right;\">\n",
       "      <th></th>\n",
       "      <th>System Time second</th>\n",
       "      <th>System Memory GB</th>\n",
       "      <th>System User ID</th>\n",
       "      <th>System Machine ID</th>\n",
       "    </tr>\n",
       "  </thead>\n",
       "  <tbody>\n",
       "    <tr>\n",
       "      <th>0</th>\n",
       "      <td>NaN</td>\n",
       "      <td>NaN</td>\n",
       "      <td>yw22</td>\n",
       "      <td>Carrot</td>\n",
       "    </tr>\n",
       "    <tr>\n",
       "      <th>1</th>\n",
       "      <td>40.0</td>\n",
       "      <td>3.382</td>\n",
       "      <td>?</td>\n",
       "      <td>?</td>\n",
       "    </tr>\n",
       "    <tr>\n",
       "      <th>2</th>\n",
       "      <td>NaN</td>\n",
       "      <td>2.271</td>\n",
       "      <td>tp7</td>\n",
       "      <td>Asparagus</td>\n",
       "    </tr>\n",
       "    <tr>\n",
       "      <th>3</th>\n",
       "      <td>31.0</td>\n",
       "      <td>3.493</td>\n",
       "      <td>?</td>\n",
       "      <td>Eggplant</td>\n",
       "    </tr>\n",
       "    <tr>\n",
       "      <th>4</th>\n",
       "      <td>37.0</td>\n",
       "      <td>3.411</td>\n",
       "      <td>?</td>\n",
       "      <td>Asparagus</td>\n",
       "    </tr>\n",
       "  </tbody>\n",
       "</table>\n",
       "</div>"
      ],
      "text/plain": [
       "   System Time second  System Memory GB System User ID System Machine ID\n",
       "0                 NaN               NaN           yw22            Carrot\n",
       "1                40.0             3.382              ?                 ?\n",
       "2                 NaN             2.271            tp7         Asparagus\n",
       "3                31.0             3.493              ?          Eggplant\n",
       "4                37.0             3.411              ?         Asparagus"
      ]
     },
     "execution_count": 50,
     "metadata": {},
     "output_type": "execute_result"
    }
   ],
   "source": [
    "# Run but do not modify this code\n",
    "sys_df.head()"
   ]
  },
  {
   "cell_type": "code",
   "execution_count": 12,
   "metadata": {},
   "outputs": [
    {
     "data": {
      "text/html": [
       "<div>\n",
       "<style scoped>\n",
       "    .dataframe tbody tr th:only-of-type {\n",
       "        vertical-align: middle;\n",
       "    }\n",
       "\n",
       "    .dataframe tbody tr th {\n",
       "        vertical-align: top;\n",
       "    }\n",
       "\n",
       "    .dataframe thead th {\n",
       "        text-align: right;\n",
       "    }\n",
       "</style>\n",
       "<table border=\"1\" class=\"dataframe\">\n",
       "  <thead>\n",
       "    <tr style=\"text-align: right;\">\n",
       "      <th></th>\n",
       "      <th>System Time second</th>\n",
       "      <th>System Memory GB</th>\n",
       "      <th>System User ID</th>\n",
       "      <th>System Machine ID</th>\n",
       "    </tr>\n",
       "  </thead>\n",
       "  <tbody>\n",
       "    <tr>\n",
       "      <th>995</th>\n",
       "      <td>1860.0</td>\n",
       "      <td>2.258</td>\n",
       "      <td>zm3</td>\n",
       "      <td>Asparagus</td>\n",
       "    </tr>\n",
       "    <tr>\n",
       "      <th>996</th>\n",
       "      <td>1860.0</td>\n",
       "      <td>3.403</td>\n",
       "      <td>bk4</td>\n",
       "      <td>?</td>\n",
       "    </tr>\n",
       "    <tr>\n",
       "      <th>997</th>\n",
       "      <td>2160.0</td>\n",
       "      <td>3.350</td>\n",
       "      <td>yw22</td>\n",
       "      <td>Carrot</td>\n",
       "    </tr>\n",
       "    <tr>\n",
       "      <th>998</th>\n",
       "      <td>2640.0</td>\n",
       "      <td>3.366</td>\n",
       "      <td>yw22</td>\n",
       "      <td>Asparagus</td>\n",
       "    </tr>\n",
       "    <tr>\n",
       "      <th>999</th>\n",
       "      <td>1200.0</td>\n",
       "      <td>3.490</td>\n",
       "      <td>bk4</td>\n",
       "      <td>Asparagus</td>\n",
       "    </tr>\n",
       "  </tbody>\n",
       "</table>\n",
       "</div>"
      ],
      "text/plain": [
       "     System Time second  System Memory GB System User ID System Machine ID\n",
       "995              1860.0             2.258            zm3         Asparagus\n",
       "996              1860.0             3.403            bk4                 ?\n",
       "997              2160.0             3.350           yw22            Carrot\n",
       "998              2640.0             3.366           yw22         Asparagus\n",
       "999              1200.0             3.490            bk4         Asparagus"
      ]
     },
     "execution_count": 12,
     "metadata": {},
     "output_type": "execute_result"
    }
   ],
   "source": [
    "# Run but do not modify this code\n",
    "sys_df.tail()"
   ]
  },
  {
   "cell_type": "markdown",
   "metadata": {},
   "source": [
    "### Question 5 (6 points)\n",
    "The `sys_df` dataframe from question 3 should now be a little easier to read and use. Answer the following questions about `sys_df`.\n",
    "\n",
    "1. How many rows are missing data in the `System Machine ID` column?\n",
    "2. What is the average value of `System Memory GB` among the rows that are missing data in the `System User ID` column? \n",
    "3. How many rows are missing data in both the `System Time second` and `System Memory GB` columns?\n",
    "\n",
    "Note: It is not necessary to complete all of question 4 in order to answer some of these questions, and we will also look at your code for partial credit."
   ]
  },
  {
   "cell_type": "code",
   "execution_count": 49,
   "metadata": {
    "scrolled": false
   },
   "outputs": [
    {
     "name": "stdout",
     "output_type": "stream",
     "text": [
      "196\n",
      "403.06\n",
      "69\n"
     ]
    }
   ],
   "source": [
    "#1\n",
    "print(sys_df['System Machine ID'].str.count(r'([?])').sum())\n",
    "#2\n",
    "boolarr=sys_df['System Machine ID'].str.contains('[?]')\n",
    "regarr=sys_df['System Memory GB']\n",
    "print(np.nansum(regarr[boolarr]))\n",
    "#3\n",
    "boolarr1=sys_df[(np.isnan(sys_df['System Time second'])) & (np.isnan(sys_df['System Memory GB']))]\n",
    "print(len(boolarr1))\n",
    "\n"
   ]
  },
  {
   "cell_type": "markdown",
   "metadata": {},
   "source": [
    "### Answer 5\n",
    "Write your answer here if not printed above "
   ]
  },
  {
   "cell_type": "markdown",
   "metadata": {},
   "source": [
    "## Part 3: Wrangling FDA JSON Dataset \n",
    "In this part we work with a messy JSON dataset containing information about several drugs labels."
   ]
  },
  {
   "cell_type": "markdown",
   "metadata": {},
   "source": [
    "### Question 6 (6 points)\n",
    "Below we import the `FDADrugLabel.json` file into the `labels` variable. This is the same dataset as the practice. The resulting Python object is somewhat messy; we encourage you to explore the data before answering the questions."
   ]
  },
  {
   "cell_type": "code",
   "execution_count": 151,
   "metadata": {},
   "outputs": [],
   "source": [
    "# Run but do not modify this code\n",
    "import json\n",
    "with open(\"FDADrugLabel.json\") as f:\n",
    "    labels = json.load(f)\n"
   ]
  },
  {
   "cell_type": "markdown",
   "metadata": {},
   "source": [
    "Answer the following questions.\n",
    "\n",
    "1. Print the average number of key/value (or name/value) pairs for the drugs.\n",
    "2. Print the list of all of the `manufacturer_names` without any other information. `manufacturer_names` are not a top level key/name, you will need to search for where they are located and how to extract them.\n",
    "3. Print how many drugs contain the string `child` anywhere in their `warnings` (including as part of larger strings like `children`). `warnings` is a top level key/name, but some drugs are missing this data and the information is contained in strings within lists of length 1. "
   ]
  },
  {
   "cell_type": "code",
   "execution_count": 150,
   "metadata": {
    "scrolled": true
   },
   "outputs": [
    {
     "name": "stdout",
     "output_type": "stream",
     "text": [
      "1.0\n",
      "Nature and Health Beauty Co., Ltd.\n",
      "Silver Star Brands\n",
      "Johnson & Johnson Consumer Inc.\n",
      "Proficient Rx LP\n",
      "Energique, Inc.\n",
      "Energique, Inc.\n",
      "Amerisource Bergen\n",
      "Seroyal USA\n",
      "Proficient Rx LP\n",
      "MODECOS CO., LTD.\n",
      "United Exchange Corp.\n",
      "King Bio Inc.\n",
      "Aurobindo Pharma Limited\n",
      "Energique, Inc.\n",
      "SMART SENSE (Kmart)\n",
      "Mentor Lab\n",
      "BCM Ltd\n",
      "Pearl World INC.\n",
      "Dolgencorp, Inc. (DOLLAR GENERAL & REXALL)\n",
      "Medline Industries, Inc.\n",
      "13\n"
     ]
    }
   ],
   "source": [
    "#1\n",
    "totalsum=0\n",
    "for i in range(0,len(labels)):\n",
    "    totalsum=totalsum+len(labels[0].values())\n",
    "print(totalsum/len(labels)/len(labels[0].values()))\n",
    "#2\n",
    "for i in range(0,len(labels)):\n",
    "    trying=labels[i].get(\"openfda\")\n",
    "    print(trying.get('manufacturer_name'))\n",
    "#3\n",
    "counter=0\n",
    "for i in range(0,len(labels)):\n",
    "    warnings=labels[i].get(\"warnings\",\" \")\n",
    "    queries=re.compile(r'([Cc]hild)')\n",
    "    if(len(re.findall(queries,warnings[0]))>0):\n",
    "        counter=counter+1\n",
    "print(counter)\n"
   ]
  },
  {
   "cell_type": "markdown",
   "metadata": {},
   "source": [
    "### Answer 6\n",
    "Write your answer here if not printed above"
   ]
  }
 ],
 "metadata": {
  "kernelspec": {
   "display_name": "Python 3",
   "language": "python",
   "name": "python3"
  },
  "language_info": {
   "codemirror_mode": {
    "name": "ipython",
    "version": 3
   },
   "file_extension": ".py",
   "mimetype": "text/x-python",
   "name": "python",
   "nbconvert_exporter": "python",
   "pygments_lexer": "ipython3",
   "version": "3.8.3"
  }
 },
 "nbformat": 4,
 "nbformat_minor": 4
}
